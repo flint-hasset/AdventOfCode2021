{
 "cells": [
  {
   "cell_type": "code",
   "execution_count": 207,
   "metadata": {},
   "outputs": [],
   "source": [
    "import copy"
   ]
  },
  {
   "cell_type": "code",
   "execution_count": 208,
   "metadata": {},
   "outputs": [],
   "source": [
    "with open(r'C:\\Users\\stefa\\OneDrive\\Documents\\Analysis Projects\\Advent of Code\\input20.txt','r') as file:\n",
    "    a = file.readlines()\n",
    "    a = [(line.rstrip()) for line in a]"
   ]
  },
  {
   "cell_type": "code",
   "execution_count": 75,
   "metadata": {},
   "outputs": [],
   "source": [
    "test = ['..#.#..#####.#.#.#.###.##.....###.##.#..###.####..#####..#....#..#..##..###..######.###...####..#..#####..##..#.#####...##.#.#..#.##..#.#......#.###.######.###.####...#.##.##..#..#..#####.....#.#....###..#.##......#.....#..#..#..##..#...##.######.####.####.#.#...#.......#..#.#.#...####.##.#......#..#...##.#.##..#...##.#.##..###.#......#.#.......#.#.#.####.###.##...#.....####.#..#..#.##.#....##..#.####....##...##..#...#......#.#.......#.......##..####..#...#.#.#...##..#.#..###..#####........#..####......#..#',\n",
    "'',\n",
    "'#..#.','#....','##..#','..#..','..###']"
   ]
  },
  {
   "cell_type": "markdown",
   "metadata": {},
   "source": [
    "### Part 1\n",
    "#### 0 in the key is ON! Fucks with everything"
   ]
  },
  {
   "cell_type": "code",
   "execution_count": 241,
   "metadata": {},
   "outputs": [],
   "source": [
    "def parse_square1(x1, y1, field):\n",
    "    bin_str = ''\n",
    "    for y in [-1,0,1]:\n",
    "        for x in [-1,0,1]:\n",
    "#            print([x+x1,y+y1], field[y+y1][x+x1])\n",
    "            try:\n",
    "                if field[y+y1][x+x1] == '#':\n",
    "                    bin_str = bin_str+'1'\n",
    "                else:\n",
    "                    bin_str = bin_str+'0'\n",
    "            except:\n",
    "                bin_str = bin_str+'0'\n",
    "#    print(bin_str)\n",
    "    return key[int(bin_str,2)]\n",
    "\n",
    "def parse_square2(x1, y1, field):\n",
    "    bin_str = ''\n",
    "    for y in [-1,0,1]:\n",
    "        for x in [-1,0,1]:\n",
    "#            print([x+x1,y+y1], field[y+y1][x+x1])\n",
    "            try:\n",
    "                if field[y+y1][x+x1] == '#':\n",
    "                    bin_str = bin_str+'1'\n",
    "                else:\n",
    "                    bin_str = bin_str+'0'\n",
    "            except:\n",
    "                bin_str = bin_str+'1'\n",
    "#    print(bin_str)\n",
    "    return key[int(bin_str,2)]"
   ]
  },
  {
   "cell_type": "code",
   "execution_count": 244,
   "metadata": {},
   "outputs": [],
   "source": [
    "def run_field1(field):\n",
    "    next_field = []\n",
    "    for y in range(len(field)):\n",
    "        next_field.append(['.' for x in range(len(field[0]))])\n",
    "\n",
    "    for y in range(len(next_field)):\n",
    "        for x in range(len(next_field[0])):\n",
    "            next_field[y][x] = parse_square1(x,y,field)\n",
    "    return next_field\n",
    "\n",
    "def run_field2(field):\n",
    "    next_field = []\n",
    "    for y in range(len(field)):\n",
    "        next_field.append(['.' for x in range(len(field[0]))])\n",
    "\n",
    "    for y in range(len(next_field)):\n",
    "        for x in range(len(next_field[0])):\n",
    "            next_field[y][x] = parse_square2(x,y,field)\n",
    "    return next_field"
   ]
  },
  {
   "cell_type": "code",
   "execution_count": 245,
   "metadata": {},
   "outputs": [
    {
     "data": {
      "text/plain": [
       "5682"
      ]
     },
     "execution_count": 245,
     "metadata": {},
     "output_type": "execute_result"
    }
   ],
   "source": [
    "input_set = a\n",
    "key = input_set[0]\n",
    "\n",
    "### Make field with extra padding to deal with \"infinite\"\n",
    "field = []\n",
    "for x in range(3):\n",
    "    pad_line = []\n",
    "    for x in range(len(input_set[4])+6):\n",
    "        pad_line.append('.')\n",
    "    field.append(pad_line)\n",
    "for line in input_set[2:]:\n",
    "    pad_line = []\n",
    "    for x in range(3):\n",
    "        pad_line.append('.')\n",
    "    for x in line:\n",
    "        pad_line.append(x)\n",
    "    for x in range(3):\n",
    "        pad_line.append('.')\n",
    "    field.append(pad_line)\n",
    "for x in range(3):\n",
    "    pad_line = []\n",
    "    for x in range(len(input_set[4])+6):\n",
    "        pad_line.append('.')\n",
    "    field.append(pad_line)\n",
    "\n",
    "next_field = run_field1(field)\n",
    "next_field = run_field2(next_field)\n",
    "\n",
    "\n",
    "lights = 0\n",
    "for line in next_field:\n",
    "    lights += len([x for x in line if x=='#'])\n",
    "lights"
   ]
  },
  {
   "cell_type": "markdown",
   "metadata": {},
   "source": [
    "### Part 2"
   ]
  },
  {
   "cell_type": "code",
   "execution_count": 248,
   "metadata": {},
   "outputs": [],
   "source": [
    "input_set = a\n",
    "key = input_set[0]\n",
    "\n",
    "### Make field with extra padding to deal with \"infinite\"\n",
    "field = []\n",
    "for x in range(100):\n",
    "    pad_line = []\n",
    "    for x in range(len(input_set[4])+200):\n",
    "        pad_line.append('.')\n",
    "    field.append(pad_line)\n",
    "for line in input_set[2:]:\n",
    "    pad_line = []\n",
    "    for x in range(50):\n",
    "        pad_line.append('.')\n",
    "    for x in line:\n",
    "        pad_line.append(x)\n",
    "    for x in range(50):\n",
    "        pad_line.append('.')\n",
    "    field.append(pad_line)\n",
    "for x in range(50):\n",
    "    pad_line = []\n",
    "    for x in range(len(input_set[4])+200):\n",
    "        pad_line.append('.')\n",
    "    field.append(pad_line)\n",
    "\n",
    "    \n"
   ]
  },
  {
   "cell_type": "code",
   "execution_count": 249,
   "metadata": {},
   "outputs": [
    {
     "data": {
      "text/plain": [
       "250"
      ]
     },
     "execution_count": 249,
     "metadata": {},
     "output_type": "execute_result"
    }
   ],
   "source": [
    "len(field)"
   ]
  },
  {
   "cell_type": "code",
   "execution_count": 250,
   "metadata": {},
   "outputs": [
    {
     "data": {
      "text/plain": [
       "17628"
      ]
     },
     "execution_count": 250,
     "metadata": {},
     "output_type": "execute_result"
    }
   ],
   "source": [
    "next_field = run_field1(field)\n",
    "for x in range(24):\n",
    "    next_field = run_field2(next_field)\n",
    "    next_field = run_field1(next_field)\n",
    "next_field = run_field2(next_field)\n",
    "\n",
    "\n",
    "lights = 0\n",
    "for line in next_field:\n",
    "    lights += len([x for x in line if x=='#'])\n",
    "lights"
   ]
  },
  {
   "cell_type": "code",
   "execution_count": null,
   "metadata": {},
   "outputs": [],
   "source": []
  }
 ],
 "metadata": {
  "kernelspec": {
   "display_name": "Python 3",
   "language": "python",
   "name": "python3"
  },
  "language_info": {
   "codemirror_mode": {
    "name": "ipython",
    "version": 3
   },
   "file_extension": ".py",
   "mimetype": "text/x-python",
   "name": "python",
   "nbconvert_exporter": "python",
   "pygments_lexer": "ipython3",
   "version": "3.7.6"
  }
 },
 "nbformat": 4,
 "nbformat_minor": 4
}
