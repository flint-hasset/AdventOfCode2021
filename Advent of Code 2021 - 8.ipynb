{
 "cells": [
  {
   "cell_type": "code",
   "execution_count": 136,
   "metadata": {},
   "outputs": [],
   "source": [
    "with open(r'C:\\Users\\stefa\\OneDrive\\Documents\\Analysis Projects\\Advent of Code\\input8.txt','r') as file:\n",
    "    a = file.readlines()\n",
    "    a = [(line.rstrip()) for line in a]"
   ]
  },
  {
   "cell_type": "markdown",
   "metadata": {},
   "source": [
    "### Part 1"
   ]
  },
  {
   "cell_type": "code",
   "execution_count": 137,
   "metadata": {},
   "outputs": [
    {
     "data": {
      "text/plain": [
       "532"
      ]
     },
     "execution_count": 137,
     "metadata": {},
     "output_type": "execute_result"
    }
   ],
   "source": [
    "outputs = []\n",
    "for entry in a:\n",
    "    items = entry.split(\" | \")[1].split(\" \")\n",
    "    for x in items:\n",
    "        outputs.append(x)\n",
    "counts = 0\n",
    "for lengths in [2, 3, 4, 7]:\n",
    "    counts += len([x for x in outputs if len(x)==lengths])\n",
    "counts"
   ]
  },
  {
   "cell_type": "markdown",
   "metadata": {},
   "source": [
    "### Part II"
   ]
  },
  {
   "cell_type": "code",
   "execution_count": 138,
   "metadata": {},
   "outputs": [],
   "source": [
    "def run_line(line):\n",
    "    digits, output = line.split(\" | \")\n",
    "    digits = digits.split(' ')\n",
    "    output = output.split(' ')\n",
    "    output = [''.join(sorted([y for y in x])) for x in output]\n",
    "    clean_output = []\n",
    "    for num in output:\n",
    "        ''.join(sorted([y for y in x]))\n",
    "    digits_dict = {}\n",
    "    digits_dict[1] = [x for x in digits if len(x)==2][0]\n",
    "    digits_dict[4] = [x for x in digits if len(x)==4][0]\n",
    "    digits_dict[7] = [x for x in digits if len(x)==3][0]\n",
    "    digits_dict[8] = [x for x in digits if len(x)==7][0]\n",
    "    digits_dict[9] = [x for x in digits if len((set(digits_dict.get(7))|set(digits_dict.get(4)))-set(x))==0 and len(x)==6][0]\n",
    "    digits_dict[0] = [x for x in digits if len(x)==6 and x not in digits_dict.values() and len(set(digits_dict.get(7))-set(x))==0][0]\n",
    "    digits_dict[6] = [x for x in digits if len(x)==6 and x not in digits_dict.values()][0]\n",
    "    digits_dict[2] = [x for x in digits if len(x)==5 and len(set(x)-set(digits_dict.get(9)))!=0][0]\n",
    "    digits_dict[5] = [x for x in digits if len(x)==5 and len(set(x)-set(digits_dict.get(2)))==2][0]\n",
    "    digits_dict[3] = [x for x in digits if x not in digits_dict.values()][0]\n",
    "\n",
    "    for key in digits_dict.keys():\n",
    "        digits_dict[key] = ''.join(sorted([x for x in digits_dict[key]]))\n",
    "    inv_digits = {v: k for k, v in digits_dict.items()}\n",
    "    values = ''\n",
    "    for num in output:\n",
    "        values = values + str(inv_digits[num])\n",
    "    return(int(values))"
   ]
  },
  {
   "cell_type": "code",
   "execution_count": 139,
   "metadata": {},
   "outputs": [
    {
     "data": {
      "text/plain": [
       "1011284"
      ]
     },
     "execution_count": 139,
     "metadata": {},
     "output_type": "execute_result"
    }
   ],
   "source": [
    "total = 0\n",
    "for line in a:\n",
    "    total = total + run_line(line)\n",
    "total"
   ]
  }
 ],
 "metadata": {
  "kernelspec": {
   "display_name": "Python 3",
   "language": "python",
   "name": "python3"
  },
  "language_info": {
   "codemirror_mode": {
    "name": "ipython",
    "version": 3
   },
   "file_extension": ".py",
   "mimetype": "text/x-python",
   "name": "python",
   "nbconvert_exporter": "python",
   "pygments_lexer": "ipython3",
   "version": "3.7.6"
  }
 },
 "nbformat": 4,
 "nbformat_minor": 4
}
