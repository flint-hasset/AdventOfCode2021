{
 "cells": [
  {
   "cell_type": "code",
   "execution_count": 1,
   "metadata": {},
   "outputs": [],
   "source": [
    "with open(r'C:\\Users\\stefa\\OneDrive\\Documents\\Analysis Projects\\Advent of Code\\input2.txt','r') as file:\n",
    "    a = file.readlines()\n",
    "    a = [(line.rstrip()) for line in a]\n"
   ]
  },
  {
   "cell_type": "markdown",
   "metadata": {},
   "source": [
    "### Part 1"
   ]
  },
  {
   "cell_type": "code",
   "execution_count": 12,
   "metadata": {},
   "outputs": [
    {
     "data": {
      "text/plain": [
       "['forward 9', 'down 3', 'down 8', 'forward 2', 'up 3']"
      ]
     },
     "execution_count": 12,
     "metadata": {},
     "output_type": "execute_result"
    }
   ],
   "source": [
    "a[:5]"
   ]
  },
  {
   "cell_type": "code",
   "execution_count": 11,
   "metadata": {},
   "outputs": [
    {
     "data": {
      "text/plain": [
       "1451208"
      ]
     },
     "execution_count": 11,
     "metadata": {},
     "output_type": "execute_result"
    }
   ],
   "source": [
    "x_pos, y_pos = 0,0\n",
    "\n",
    "for move in a:\n",
    "    direction = move.split(\" \")[0]\n",
    "    distance =  int(move.split(\" \")[1])\n",
    "    if direction == 'up':\n",
    "        y_pos = y_pos - distance\n",
    "    elif direction == 'down':\n",
    "        y_pos = y_pos + distance\n",
    "    else:\n",
    "        x_pos = x_pos + distance\n",
    "\n",
    "x_pos * y_pos\n",
    "        "
   ]
  },
  {
   "cell_type": "markdown",
   "metadata": {},
   "source": [
    "### Part 2"
   ]
  },
  {
   "cell_type": "code",
   "execution_count": 13,
   "metadata": {},
   "outputs": [
    {
     "data": {
      "text/plain": [
       "1620141160"
      ]
     },
     "execution_count": 13,
     "metadata": {},
     "output_type": "execute_result"
    }
   ],
   "source": [
    "x_pos, y_pos, aim = 0,0,0\n",
    "\n",
    "for move in a:\n",
    "    direction = move.split(\" \")[0]\n",
    "    distance =  int(move.split(\" \")[1])\n",
    "    if direction == 'up':\n",
    "        aim = aim - distance\n",
    "    elif direction == 'down':\n",
    "        aim = aim + distance\n",
    "    else:\n",
    "        x_pos = x_pos + distance\n",
    "        y_pos = y_pos + aim*distance\n",
    "\n",
    "x_pos * y_pos"
   ]
  }
 ],
 "metadata": {
  "kernelspec": {
   "display_name": "Python 3",
   "language": "python",
   "name": "python3"
  },
  "language_info": {
   "codemirror_mode": {
    "name": "ipython",
    "version": 3
   },
   "file_extension": ".py",
   "mimetype": "text/x-python",
   "name": "python",
   "nbconvert_exporter": "python",
   "pygments_lexer": "ipython3",
   "version": "3.7.6"
  }
 },
 "nbformat": 4,
 "nbformat_minor": 4
}
