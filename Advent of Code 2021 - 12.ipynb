{
 "cells": [
  {
   "cell_type": "code",
   "execution_count": 1,
   "metadata": {},
   "outputs": [],
   "source": [
    "from random import randrange"
   ]
  },
  {
   "cell_type": "code",
   "execution_count": 2,
   "metadata": {},
   "outputs": [],
   "source": [
    "with open(r'C:\\Users\\stefa\\OneDrive\\Documents\\Analysis Projects\\Advent of Code\\input12.txt','r') as file:\n",
    "    a = file.readlines()\n",
    "    a = [(line.rstrip()) for line in a]"
   ]
  },
  {
   "cell_type": "code",
   "execution_count": 3,
   "metadata": {},
   "outputs": [],
   "source": [
    "test = ['dc-end','HN-start','start-kj','dc-start','dc-HN','LN-dc','HN-end','kj-sa','kj-HN','kj-dc']"
   ]
  },
  {
   "cell_type": "code",
   "execution_count": 4,
   "metadata": {},
   "outputs": [
    {
     "data": {
      "text/plain": [
       "['nu-start',\n",
       " 'rt-start',\n",
       " 'db-qh',\n",
       " 'PE-end',\n",
       " 'sl-rt',\n",
       " 'qh-end',\n",
       " 'ZH-rt',\n",
       " 'nu-rt',\n",
       " 'PE-db',\n",
       " 'db-sl',\n",
       " 'nu-ZH',\n",
       " 'nu-qh',\n",
       " 'PE-qh',\n",
       " 'ZH-db',\n",
       " 'ne-end',\n",
       " 'ne-ZH',\n",
       " 'QG-db',\n",
       " 'qh-sl',\n",
       " 'ZH-qh',\n",
       " 'start-ZH',\n",
       " 'nu-PE',\n",
       " 'uf-db',\n",
       " 'ne-sl']"
      ]
     },
     "execution_count": 4,
     "metadata": {},
     "output_type": "execute_result"
    }
   ],
   "source": [
    "a"
   ]
  },
  {
   "cell_type": "code",
   "execution_count": 5,
   "metadata": {},
   "outputs": [
    {
     "data": {
      "text/plain": [
       "['dc-end',\n",
       " 'HN-start',\n",
       " 'start-kj',\n",
       " 'dc-start',\n",
       " 'dc-HN',\n",
       " 'LN-dc',\n",
       " 'HN-end',\n",
       " 'kj-sa',\n",
       " 'kj-HN',\n",
       " 'kj-dc']"
      ]
     },
     "execution_count": 5,
     "metadata": {},
     "output_type": "execute_result"
    }
   ],
   "source": [
    "test"
   ]
  },
  {
   "cell_type": "markdown",
   "metadata": {},
   "source": [
    "### Part 1"
   ]
  },
  {
   "cell_type": "code",
   "execution_count": 281,
   "metadata": {},
   "outputs": [],
   "source": [
    "input_paths = a"
   ]
  },
  {
   "cell_type": "code",
   "execution_count": 282,
   "metadata": {},
   "outputs": [
    {
     "data": {
      "text/plain": [
       "['db', 'end', 'ZH', 'QG', 'uf', 'nu', 'rt', 'ne', 'qh', 'PE', 'start', 'sl']"
      ]
     },
     "execution_count": 282,
     "metadata": {},
     "output_type": "execute_result"
    }
   ],
   "source": [
    "nodes = []\n",
    "for x in input_paths:\n",
    "    nodes.append(x.split('-')[0])\n",
    "    nodes.append(x.split('-')[1])\n",
    "nodes = list(set(nodes))\n",
    "nodes"
   ]
  },
  {
   "cell_type": "code",
   "execution_count": 283,
   "metadata": {},
   "outputs": [
    {
     "data": {
      "text/plain": [
       "['nu-start',\n",
       " 'start-nu',\n",
       " 'rt-start',\n",
       " 'start-rt',\n",
       " 'db-qh',\n",
       " 'qh-db',\n",
       " 'PE-end',\n",
       " 'end-PE',\n",
       " 'sl-rt',\n",
       " 'rt-sl',\n",
       " 'qh-end',\n",
       " 'end-qh',\n",
       " 'ZH-rt',\n",
       " 'rt-ZH',\n",
       " 'nu-rt',\n",
       " 'rt-nu',\n",
       " 'PE-db',\n",
       " 'db-PE',\n",
       " 'db-sl',\n",
       " 'sl-db',\n",
       " 'nu-ZH',\n",
       " 'ZH-nu',\n",
       " 'nu-qh',\n",
       " 'qh-nu',\n",
       " 'PE-qh',\n",
       " 'qh-PE',\n",
       " 'ZH-db',\n",
       " 'db-ZH',\n",
       " 'ne-end',\n",
       " 'end-ne',\n",
       " 'ne-ZH',\n",
       " 'ZH-ne',\n",
       " 'QG-db',\n",
       " 'db-QG',\n",
       " 'qh-sl',\n",
       " 'sl-qh',\n",
       " 'ZH-qh',\n",
       " 'qh-ZH',\n",
       " 'start-ZH',\n",
       " 'ZH-start',\n",
       " 'nu-PE',\n",
       " 'PE-nu',\n",
       " 'uf-db',\n",
       " 'db-uf',\n",
       " 'ne-sl',\n",
       " 'sl-ne']"
      ]
     },
     "execution_count": 283,
     "metadata": {},
     "output_type": "execute_result"
    }
   ],
   "source": [
    "connections = []\n",
    "for x in input_paths:\n",
    "    connections.append(x)\n",
    "    connections.append(x.split('-')[1]+'-'+x.split('-')[0])\n",
    "connections"
   ]
  },
  {
   "cell_type": "code",
   "execution_count": 284,
   "metadata": {},
   "outputs": [
    {
     "data": {
      "text/plain": [
       "['HN', 'sa', 'LN']"
      ]
     },
     "execution_count": 284,
     "metadata": {},
     "output_type": "execute_result"
    }
   ],
   "source": [
    "eligible_nodes"
   ]
  },
  {
   "cell_type": "code",
   "execution_count": 285,
   "metadata": {},
   "outputs": [],
   "source": [
    "## initialize\n",
    "path = ['start']\n",
    "eligible_nodes = nodes.copy()\n",
    "eligible_nodes.remove('start')\n",
    "next_nodes = [x.split('-')[1] for x in connections if x.split('-')[0]==path[-1]]\n",
    "next_nodes = [x for x in next_nodes if x in eligible_nodes]\n",
    "\n"
   ]
  },
  {
   "cell_type": "code",
   "execution_count": 10,
   "metadata": {},
   "outputs": [],
   "source": [
    "def move_next(path, eligible_nodes, connections):\n",
    "    dead_end = 0\n",
    "    next_nodes = [x.split('-')[1] for x in connections if x.split('-')[0]==path[-1]]\n",
    "    next_nodes = [x for x in next_nodes if x in eligible_nodes]\n",
    "    if len(next_nodes)==0:\n",
    "        dead_end = 1\n",
    "\n",
    "    else:    \n",
    "        ### must add selector here\n",
    "\n",
    "        selected = next_nodes[randrange(len(next_nodes))]\n",
    "        ###\n",
    "\n",
    "        path.append(selected)\n",
    "        if selected.lower() == selected:\n",
    "            eligible_nodes.remove(selected)\n",
    "    \n",
    "    return path, eligible_nodes, dead_end\n",
    "\n",
    "\n"
   ]
  },
  {
   "cell_type": "code",
   "execution_count": 11,
   "metadata": {},
   "outputs": [],
   "source": [
    "paths = []"
   ]
  },
  {
   "cell_type": "code",
   "execution_count": 111,
   "metadata": {},
   "outputs": [
    {
     "name": "stdout",
     "output_type": "stream",
     "text": [
      "4337\n"
     ]
    }
   ],
   "source": [
    "#paths = []\n",
    "\n",
    "for x in range(1000):\n",
    "    path = ['start']\n",
    "    eligible_nodes = nodes.copy()\n",
    "    eligible_nodes.remove('start')\n",
    "\n",
    "    while path[-1]!= 'end':\n",
    "        path, eligible_nodes, dead_end = move_next(path, eligible_nodes, connections)\n",
    "        if dead_end==1:\n",
    "            break\n",
    "    if dead_end!=1:\n",
    "        paths.append(path)\n",
    "print(len(set(tuple(i) for i in paths)))\n",
    "paths = list(list(x) for x in set(tuple(i) for i in paths))"
   ]
  },
  {
   "cell_type": "code",
   "execution_count": 81,
   "metadata": {},
   "outputs": [],
   "source": [
    "#4338 correct"
   ]
  },
  {
   "cell_type": "markdown",
   "metadata": {},
   "source": [
    "### Part II"
   ]
  },
  {
   "cell_type": "code",
   "execution_count": 286,
   "metadata": {},
   "outputs": [],
   "source": [
    "def move_next2(path, eligible_nodes, connections, once_list, trigger):\n",
    "    \n",
    "    dead_end = 0\n",
    "    next_nodes = [x.split('-')[1] for x in connections if x.split('-')[0]==path[-1]]\n",
    "    next_nodes = [x for x in next_nodes if x in eligible_nodes]\n",
    "    if len(next_nodes)==0:\n",
    "        dead_end = 1\n",
    "\n",
    "    else:    \n",
    "        ### must add selector here\n",
    "        selected = next_nodes[randrange(len(next_nodes))]\n",
    "        ###\n",
    "        \n",
    "        if selected.lower() == selected:\n",
    "            if selected in once_list:\n",
    "                eligible_nodes = [x for x in eligible_nodes if x not in once_list]\n",
    "                trigger = 1\n",
    "            elif trigger == 1:\n",
    "                eligible_nodes.remove(selected)\n",
    "            else:\n",
    "                once_list.append(selected)\n",
    "\n",
    "        path.append(selected)\n",
    "            \n",
    "    return path, eligible_nodes, dead_end, once_list, trigger"
   ]
  },
  {
   "cell_type": "code",
   "execution_count": 287,
   "metadata": {},
   "outputs": [],
   "source": [
    "paths3 = []"
   ]
  },
  {
   "cell_type": "code",
   "execution_count": 288,
   "metadata": {},
   "outputs": [],
   "source": [
    "import gc"
   ]
  },
  {
   "cell_type": "code",
   "execution_count": 293,
   "metadata": {},
   "outputs": [
    {
     "name": "stdout",
     "output_type": "stream",
     "text": [
      "71490 143\n",
      "71636 146\n",
      "71748 112\n",
      "71886 138\n",
      "72030 144\n",
      "72162 132\n",
      "72313 151\n",
      "72449 136\n",
      "72578 129\n",
      "72706 128\n",
      "72829 123\n",
      "72961 132\n",
      "73091 130\n",
      "73222 131\n",
      "73341 119\n",
      "73472 131\n",
      "73601 129\n",
      "73725 124\n",
      "73833 108\n",
      "73963 130\n",
      "74073 110\n",
      "74180 107\n",
      "74285 105\n",
      "74408 123\n",
      "74533 125\n",
      "74649 116\n",
      "74758 109\n",
      "74870 112\n",
      "74999 129\n",
      "75113 114\n",
      "75218 105\n",
      "75334 116\n",
      "75466 132\n",
      "75562 96\n",
      "75672 110\n",
      "75757 85\n",
      "75856 99\n",
      "75951 95\n",
      "76066 115\n",
      "76186 120\n",
      "76275 89\n",
      "76369 94\n",
      "76470 101\n",
      "76572 102\n",
      "76677 105\n",
      "76789 112\n",
      "76898 109\n",
      "77012 114\n",
      "77104 92\n",
      "77194 90\n"
     ]
    },
    {
     "data": {
      "text/plain": [
       "0"
      ]
     },
     "execution_count": 293,
     "metadata": {},
     "output_type": "execute_result"
    }
   ],
   "source": [
    "for runs in range(50):\n",
    "    b = len(set(tuple(i) for i in paths3))\n",
    "    for x in range(25000):\n",
    "        path = ['start']\n",
    "        eligible_nodes = nodes.copy()\n",
    "        eligible_nodes.remove('start')\n",
    "        once_list = []\n",
    "        trigger = 0\n",
    "        while path[-1]!= 'end':\n",
    "            path, eligible_nodes, dead_end, once_list, trigger = move_next2(path, eligible_nodes, connections, once_list, trigger)\n",
    "            if dead_end==1:\n",
    "#                print(path)\n",
    "                break\n",
    "        if dead_end!=1:\n",
    "            paths3.append(path)\n",
    "    print(len(set(tuple(i) for i in paths3)), len(set(tuple(i) for i in paths3))-b)\n",
    "    paths3 = list(list(x) for x in set(tuple(i) for i in paths3))\n",
    "gc.collect()"
   ]
  },
  {
   "cell_type": "code",
   "execution_count": 255,
   "metadata": {},
   "outputs": [],
   "source": [
    "## 38716 too low"
   ]
  },
  {
   "cell_type": "code",
   "execution_count": null,
   "metadata": {},
   "outputs": [
    {
     "name": "stdout",
     "output_type": "stream",
     "text": [
      "106075 11\n",
      "106093 18\n",
      "106110 17\n",
      "106121 11\n",
      "106134 13\n",
      "106148 14\n",
      "106163 15\n",
      "106177 14\n",
      "106187 10\n",
      "106202 15\n",
      "106214 12\n",
      "106228 14\n",
      "106239 11\n",
      "106255 16\n",
      "106266 11\n",
      "106276 10\n",
      "106283 7\n",
      "106294 11\n",
      "106305 11\n",
      "106319 14\n",
      "106335 16\n",
      "106347 12\n",
      "106360 13\n",
      "106371 11\n",
      "106390 19\n",
      "106405 15\n",
      "106418 13\n",
      "106429 11\n",
      "106442 13\n",
      "106455 13\n",
      "106470 15\n",
      "106491 21\n",
      "106506 15\n",
      "106519 13\n",
      "106537 18\n",
      "106554 17\n",
      "106565 11\n",
      "106580 15\n",
      "106596 16\n",
      "106610 14\n",
      "106618 8\n",
      "106636 18\n",
      "106653 17\n",
      "106662 9\n",
      "106674 12\n",
      "106683 9\n",
      "106695 12\n",
      "106711 16\n",
      "106724 13\n",
      "106735 11\n",
      "106745 10\n",
      "106755 10\n",
      "106772 17\n",
      "106788 16\n",
      "106797 9\n",
      "106807 10\n",
      "106820 13\n",
      "106835 15\n",
      "106845 10\n",
      "106853 8\n",
      "106867 14\n",
      "106877 10\n",
      "106886 9\n",
      "106898 12\n",
      "106912 14\n",
      "106923 11\n",
      "106937 14\n",
      "106950 13\n",
      "106955 5\n",
      "106970 15\n",
      "106984 14\n",
      "106996 12\n",
      "107003 7\n",
      "107018 15\n",
      "107031 13\n",
      "107040 9\n",
      "107051 11\n",
      "107061 10\n",
      "107068 7\n",
      "107078 10\n",
      "107092 14\n",
      "107106 14\n",
      "107116 10\n",
      "107127 11\n",
      "107141 14\n",
      "107153 12\n",
      "107161 8\n",
      "107172 11\n",
      "107185 13\n",
      "107196 11\n",
      "107203 7\n",
      "107212 9\n",
      "107223 11\n",
      "107230 7\n",
      "107239 9\n",
      "107251 12\n",
      "107256 5\n",
      "107269 13\n",
      "107279 10\n",
      "107287 8\n",
      "107293 6\n",
      "107301 8\n",
      "107315 14\n",
      "107326 11\n",
      "107334 8\n",
      "107340 6\n",
      "107349 9\n",
      "107362 13\n",
      "107375 13\n",
      "107380 5\n",
      "107393 13\n",
      "107405 12\n",
      "107411 6\n",
      "107421 10\n",
      "107428 7\n",
      "107438 10\n",
      "107447 9\n",
      "107452 5\n",
      "107465 13\n",
      "107476 11\n",
      "107486 10\n",
      "107496 10\n",
      "107504 8\n",
      "107514 10\n",
      "107526 12\n",
      "107540 14\n",
      "107549 9\n",
      "107562 13\n",
      "107570 8\n",
      "107580 10\n",
      "107591 11\n",
      "107605 14\n",
      "107615 10\n",
      "107626 11\n",
      "107643 17\n",
      "107649 6\n",
      "107658 9\n",
      "107667 9\n",
      "107670 3\n",
      "107681 11\n",
      "107694 13\n",
      "107700 6\n",
      "107707 7\n",
      "107719 12\n",
      "107727 8\n"
     ]
    }
   ],
   "source": [
    "recent_list = [100, 1, 1, 1, 1, 1, 1, 1, 1, 1000]\n",
    "while sum(recent_list)>50:\n",
    "    b = len(set(tuple(i) for i in paths3))\n",
    "    for x in range(100000):\n",
    "        path = ['start']\n",
    "        eligible_nodes = nodes.copy()\n",
    "        eligible_nodes.remove('start')\n",
    "        once_list = []\n",
    "        trigger = 0\n",
    "        while path[-1]!= 'end':\n",
    "            path, eligible_nodes, dead_end, once_list, trigger = move_next2(path, eligible_nodes, connections, once_list, trigger)\n",
    "            if dead_end==1:\n",
    "#                print(path)\n",
    "                break\n",
    "        if dead_end!=1:\n",
    "            paths3.append(path)\n",
    "    print(len(set(tuple(i) for i in paths3)), len(set(tuple(i) for i in paths3))-b)\n",
    "    paths3 = list(list(x) for x in set(tuple(i) for i in paths3))\n",
    "    recent_list.append(len(set(tuple(i) for i in paths3))-b)\n",
    "    recent_list.pop(0)\n",
    "    gc.collect()"
   ]
  },
  {
   "cell_type": "code",
   "execution_count": null,
   "metadata": {},
   "outputs": [],
   "source": []
  }
 ],
 "metadata": {
  "kernelspec": {
   "display_name": "Python 3",
   "language": "python",
   "name": "python3"
  },
  "language_info": {
   "codemirror_mode": {
    "name": "ipython",
    "version": 3
   },
   "file_extension": ".py",
   "mimetype": "text/x-python",
   "name": "python",
   "nbconvert_exporter": "python",
   "pygments_lexer": "ipython3",
   "version": "3.7.6"
  }
 },
 "nbformat": 4,
 "nbformat_minor": 4
}
