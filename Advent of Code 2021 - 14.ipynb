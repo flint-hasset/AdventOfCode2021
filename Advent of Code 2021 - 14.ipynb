{
 "cells": [
  {
   "cell_type": "code",
   "execution_count": 1,
   "metadata": {},
   "outputs": [],
   "source": [
    "with open(r'C:\\Users\\stefa\\OneDrive\\Documents\\Analysis Projects\\Advent of Code\\input14.txt','r') as file:\n",
    "    a = file.readlines()\n",
    "    a = [(line.rstrip()) for line in a]"
   ]
  },
  {
   "cell_type": "code",
   "execution_count": 3,
   "metadata": {},
   "outputs": [
    {
     "data": {
      "text/plain": [
       "['BSONBHNSSCFPSFOPHKPK', '', 'PF -> P', 'KO -> H', 'CH -> K']"
      ]
     },
     "execution_count": 3,
     "metadata": {},
     "output_type": "execute_result"
    }
   ],
   "source": [
    "a[:5]"
   ]
  },
  {
   "cell_type": "code",
   "execution_count": 4,
   "metadata": {},
   "outputs": [
    {
     "data": {
      "text/plain": [
       "['NNCB',\n",
       " '',\n",
       " 'CH -> B',\n",
       " 'HH -> N',\n",
       " 'CB -> H',\n",
       " 'NH -> C',\n",
       " 'HB -> C',\n",
       " 'HC -> B',\n",
       " 'HN -> C',\n",
       " 'NN -> C',\n",
       " 'BH -> H',\n",
       " 'NC -> B',\n",
       " 'NB -> B',\n",
       " 'BN -> B',\n",
       " 'BB -> N',\n",
       " 'BC -> B',\n",
       " 'CC -> N',\n",
       " 'CN -> C']"
      ]
     },
     "execution_count": 4,
     "metadata": {},
     "output_type": "execute_result"
    }
   ],
   "source": [
    "test = ['NNCB', '', 'CH -> B','HH -> N','CB -> H','NH -> C','HB -> C','HC -> B','HN -> C','NN -> C','BH -> H','NC -> B','NB -> B','BN -> B','BB -> N','BC -> B','CC -> N','CN -> C']\n",
    "test"
   ]
  },
  {
   "cell_type": "markdown",
   "metadata": {},
   "source": [
    "### Part 1"
   ]
  },
  {
   "cell_type": "code",
   "execution_count": 235,
   "metadata": {},
   "outputs": [],
   "source": [
    "input_set = a"
   ]
  },
  {
   "cell_type": "code",
   "execution_count": 237,
   "metadata": {},
   "outputs": [],
   "source": [
    "def make_new_str(full_str, pairs_dict):\n",
    "    additions = []\n",
    "    init_length = len(full_str)-1\n",
    "    for x in range(init_length):\n",
    "        additions.append(pairs_dict[full_str[x:x+2]])\n",
    "    \n",
    "    new_str = ''\n",
    "    for x in range(len(full_str)):\n",
    "        new_str = new_str + full_str[x]\n",
    "        if x < len(additions):\n",
    "            new_str = new_str + additions[x]\n",
    "    return new_str\n",
    "        "
   ]
  },
  {
   "cell_type": "code",
   "execution_count": 254,
   "metadata": {},
   "outputs": [
    {
     "data": {
      "text/plain": [
       "2740"
      ]
     },
     "execution_count": 254,
     "metadata": {},
     "output_type": "execute_result"
    }
   ],
   "source": [
    "full_str = input_set[0]\n",
    "pairs_dict = dict(zip([x[:2] for x in input_set[2:]], [x[-1] for x in input_set[2:]]))\n",
    "\n",
    "for x in range(10):\n",
    "    full_str = make_new_str(full_str, pairs_dict)\n",
    "results = {x:full_str.count(x) for x in full_str}\n",
    "max(results.values())-min(results.values())"
   ]
  },
  {
   "cell_type": "markdown",
   "metadata": {},
   "source": [
    "### Part II"
   ]
  },
  {
   "cell_type": "markdown",
   "metadata": {},
   "source": [
    "### Can't do a straight solution. \n",
    "\n",
    "1. Calculate the dictionary pair counts for each initial pair after 10 generations (string of 1025; 1024 pairs)\n",
    "2. Iterate over this for value in dict. \n",
    "3. Calculate instances for each. Each letter will show up in 2 pairs, except the very first and last. "
   ]
  },
  {
   "cell_type": "code",
   "execution_count": 255,
   "metadata": {},
   "outputs": [],
   "source": [
    "def run_pair_n(pair, pairs_results, n):\n",
    "    for x in range(n):\n",
    "        pair = make_new_str(pair, pairs_dict)\n",
    "\n",
    "    for x in range(len(pair)-1):\n",
    "        curr_pair = pair[x:x+2]\n",
    "        if curr_pair in pairs_results.keys():\n",
    "            pairs_results[curr_pair] += 1\n",
    "        else:\n",
    "            pairs_results[curr_pair] = 1\n",
    "    return pairs_results\n"
   ]
  },
  {
   "cell_type": "code",
   "execution_count": 256,
   "metadata": {},
   "outputs": [],
   "source": [
    "pairs_results = {}\n",
    "start_val = input_set[0]\n",
    "for x in range(len(start_val)-1):\n",
    "    pair = start_val[x:x+2]\n",
    "    run_pair_n(pair, pairs_results, 20)"
   ]
  },
  {
   "cell_type": "code",
   "execution_count": 257,
   "metadata": {},
   "outputs": [],
   "source": [
    "final_pairs = pairs_results.copy()\n",
    "for key in final_pairs.keys():\n",
    "    final_pairs[key] = 0\n",
    "\n",
    "pairs_2nd = {}\n",
    "## Now do it for pairs in initial dict\n",
    "### For each pair run, multiply out from original dictionary\n",
    "for pair in pairs_results.keys():\n",
    "    pairs_2nd = {}\n",
    "    run_pair_n(pair, pairs_results = pairs_2nd, n=20)\n",
    "    multiplier = pairs_results.get(pair)\n",
    "    for key in pairs_2nd.keys():\n",
    "        if key not in final_pairs.keys():\n",
    "            final_pairs[key] = multiplier*pairs_2nd[key]\n",
    "        else:    \n",
    "            final_pairs[key] += multiplier*pairs_2nd[key]"
   ]
  },
  {
   "cell_type": "code",
   "execution_count": 258,
   "metadata": {},
   "outputs": [
    {
     "name": "stdout",
     "output_type": "stream",
     "text": [
      "2959788056211\n"
     ]
    }
   ],
   "source": [
    "letters = []\n",
    "for key in final_pairs.keys():\n",
    "    letters.append(key[0])\n",
    "    letters.append(key[1])\n",
    "letters = list(set(letters))\n",
    "\n",
    "letter_dict = {}\n",
    "for letter in letters:\n",
    "    letter_count = 0\n",
    "    for key in final_pairs.keys():\n",
    "        if key[0]==letter and key[1]==letter:\n",
    "            letter_count += final_pairs[key]\n",
    "        else:\n",
    "            if letter in key:\n",
    "                letter_count += final_pairs[key]/2\n",
    "    letter_dict[letter] = int(letter_count)+(letter_count %  1 > 0)\n",
    "    #print(letter, letter_count)\n",
    "print(max(letter_dict.values())-min(letter_dict.values()))"
   ]
  },
  {
   "cell_type": "code",
   "execution_count": null,
   "metadata": {},
   "outputs": [],
   "source": []
  }
 ],
 "metadata": {
  "kernelspec": {
   "display_name": "Python 3",
   "language": "python",
   "name": "python3"
  },
  "language_info": {
   "codemirror_mode": {
    "name": "ipython",
    "version": 3
   },
   "file_extension": ".py",
   "mimetype": "text/x-python",
   "name": "python",
   "nbconvert_exporter": "python",
   "pygments_lexer": "ipython3",
   "version": "3.7.6"
  }
 },
 "nbformat": 4,
 "nbformat_minor": 4
}
