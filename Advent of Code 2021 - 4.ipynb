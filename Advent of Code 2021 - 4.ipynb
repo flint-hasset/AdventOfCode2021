{
 "cells": [
  {
   "cell_type": "code",
   "execution_count": 1,
   "metadata": {},
   "outputs": [],
   "source": [
    "with open(r'C:\\Users\\stefa\\OneDrive\\Documents\\Analysis Projects\\Advent of Code\\input4.txt','r') as file:\n",
    "    a = file.readlines()\n",
    "    a = [(line.rstrip()) for line in a]\n"
   ]
  },
  {
   "cell_type": "code",
   "execution_count": 197,
   "metadata": {},
   "outputs": [
    {
     "data": {
      "text/plain": [
       "['83,5,71,61,88,55,95,6,0,97,20,16,27,7,79,25,81,29,22,52,43,21,53,59,99,18,35,96,51,93,14,77,15,3,57,28,58,17,50,32,74,63,76,84,65,9,62,67,48,12,8,68,31,19,36,85,98,30,91,89,66,80,75,47,4,23,60,70,87,90,13,38,56,34,46,24,41,92,37,49,73,10,94,26,42,40,33,54,86,82,72,39,2,45,78,11,1,44,69,64',\n",
       " '',\n",
       " '97 62 17  5 79',\n",
       " ' 1 99 98 80 84',\n",
       " '44 16  2 40 94',\n",
       " '68 95 49 32  8',\n",
       " '38 35 23 89  3',\n",
       " '',\n",
       " '48 53 59 99 43',\n",
       " '77 24 62 50 27']"
      ]
     },
     "execution_count": 197,
     "metadata": {},
     "output_type": "execute_result"
    }
   ],
   "source": [
    "a[:10]"
   ]
  },
  {
   "cell_type": "markdown",
   "metadata": {},
   "source": [
    "### Part I\n",
    "Should probably be using 'pop' to drop numbers out of lists. First empty list wins. Saves calculation of having to check every number every time. "
   ]
  },
  {
   "cell_type": "code",
   "execution_count": 198,
   "metadata": {},
   "outputs": [],
   "source": [
    "call_list = a[0]\n",
    "call_list = [int(x) for x in call_list.split(',')]"
   ]
  },
  {
   "cell_type": "code",
   "execution_count": 199,
   "metadata": {},
   "outputs": [],
   "source": [
    "boards = []\n",
    "board = []\n",
    "for line in a[1:]:\n",
    "    if line=='':\n",
    "        boards.append(board)\n",
    "        board = []\n",
    "    else:\n",
    "        board.append([int(x) for x in line.split()])\n",
    "boards = boards[1:]"
   ]
  },
  {
   "cell_type": "code",
   "execution_count": 200,
   "metadata": {},
   "outputs": [],
   "source": [
    "def check_board(board, call_list):\n",
    "    #board = boards[12]\n",
    "\n",
    "    verts = []\n",
    "    for x in range(5):\n",
    "        vert = []\n",
    "        for y in range(5):\n",
    "            vert.append(board[y][x])\n",
    "        verts.append(vert)\n",
    "    verts\n",
    "\n",
    "\n",
    "    winner = 0\n",
    "    for x in range(5,len(call_list)):\n",
    "        call = call_list[:x]\n",
    "        for row in board:\n",
    "            if len(set(row)-set(call))==0:\n",
    "                winner = 1\n",
    "                break\n",
    "        if winner ==1:\n",
    "            break\n",
    "        for vert in verts:\n",
    "            if len(set(vert)-set(call))==0:\n",
    "                winner = 1\n",
    "                break\n",
    "    return x-1"
   ]
  },
  {
   "cell_type": "code",
   "execution_count": 201,
   "metadata": {},
   "outputs": [
    {
     "name": "stdout",
     "output_type": "stream",
     "text": [
      "[87, 22]\n"
     ]
    },
    {
     "data": {
      "text/plain": [
       "16716"
      ]
     },
     "execution_count": 201,
     "metadata": {},
     "output_type": "execute_result"
    }
   ],
   "source": [
    "best = [0,check_board(boards[0],call_list)]\n",
    "for x in range(1,len(boards)):\n",
    "    board_id, nums = x, check_board(boards[x], call_list)\n",
    "    if nums < best[1]:\n",
    "        best = [board_id, nums]\n",
    "print(best)      \n",
    "\n",
    "check_list = []\n",
    "for row in boards[best[0]]:\n",
    "    for num in row:\n",
    "        check_list.append(num)\n",
    "sum(set(check_list)-set(call_list[:best[1]]))*call_list[best[1]-1]"
   ]
  },
  {
   "cell_type": "markdown",
   "metadata": {},
   "source": [
    "### Part 2"
   ]
  },
  {
   "cell_type": "code",
   "execution_count": 202,
   "metadata": {},
   "outputs": [
    {
     "name": "stdout",
     "output_type": "stream",
     "text": [
      "[18, 85]\n"
     ]
    },
    {
     "data": {
      "text/plain": [
       "4880"
      ]
     },
     "execution_count": 202,
     "metadata": {},
     "output_type": "execute_result"
    }
   ],
   "source": [
    "best = [0,check_board(boards[0],call_list)]\n",
    "for x in range(1,len(boards)):\n",
    "    board_id, nums = x, check_board(boards[x], call_list)\n",
    "    if nums > best[1]:\n",
    "        best = [board_id, nums]\n",
    "print(best)      \n",
    "\n",
    "check_list = []\n",
    "for row in boards[best[0]]:\n",
    "    for num in row:\n",
    "        check_list.append(num)\n",
    "sum(set(check_list)-set(call_list[:best[1]+1]))*call_list[best[1]]"
   ]
  },
  {
   "cell_type": "code",
   "execution_count": null,
   "metadata": {},
   "outputs": [],
   "source": []
  }
 ],
 "metadata": {
  "kernelspec": {
   "display_name": "Python 3",
   "language": "python",
   "name": "python3"
  },
  "language_info": {
   "codemirror_mode": {
    "name": "ipython",
    "version": 3
   },
   "file_extension": ".py",
   "mimetype": "text/x-python",
   "name": "python",
   "nbconvert_exporter": "python",
   "pygments_lexer": "ipython3",
   "version": "3.7.6"
  }
 },
 "nbformat": 4,
 "nbformat_minor": 4
}
