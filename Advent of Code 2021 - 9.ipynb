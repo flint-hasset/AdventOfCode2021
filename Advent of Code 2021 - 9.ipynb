{
 "cells": [
  {
   "cell_type": "code",
   "execution_count": 3,
   "metadata": {},
   "outputs": [],
   "source": [
    "with open(r'\\\\CPFSPRDAPAWSE01\\userdata$\\shilts\\Documents\\Advent of Code\\input9.txt','r') as file:\n",
    "    a = file.readlines()\n",
    "    a = [(line.rstrip()) for line in a]"
   ]
  },
  {
   "cell_type": "markdown",
   "metadata": {},
   "source": [
    "### Part I"
   ]
  },
  {
   "cell_type": "code",
   "execution_count": 4,
   "metadata": {},
   "outputs": [
    {
     "data": {
      "text/plain": [
       "425"
      ]
     },
     "execution_count": 4,
     "metadata": {},
     "output_type": "execute_result"
    }
   ],
   "source": [
    "## 100 x 100 grid. Find 'low points'\n",
    "\n",
    "lows = []\n",
    "for y in range(100):\n",
    "    for x in range(100):\n",
    "        neighbors = []\n",
    "        cell = int(a[y][x])\n",
    "        if y > 0:\n",
    "            neighbors.append(int(a[y-1][x]))\n",
    "        if y < 99:\n",
    "            neighbors.append(int(a[y+1][x]))\n",
    "        if x > 0:\n",
    "            neighbors.append(int(a[y][x-1]))\n",
    "        if x < 99:\n",
    "            neighbors.append(int(a[y][x+1]))\n",
    "        if cell < min(neighbors):\n",
    "            lows.append(cell)\n",
    "sum(lows)+len(lows)"
   ]
  },
  {
   "cell_type": "markdown",
   "metadata": {},
   "source": [
    "### Part 2"
   ]
  },
  {
   "cell_type": "code",
   "execution_count": 133,
   "metadata": {},
   "outputs": [],
   "source": [
    "#21...43210\n",
    "#3.878.4.21\n",
    "#.85678.8.2\n",
    "#87678.678.\n",
    "#.8....5678"
   ]
  },
  {
   "cell_type": "code",
   "execution_count": 172,
   "metadata": {},
   "outputs": [],
   "source": [
    "test = ['2199943210','3987894921','9856789892','8767896789','9899965678']"
   ]
  },
  {
   "cell_type": "code",
   "execution_count": 139,
   "metadata": {},
   "outputs": [],
   "source": [
    "def recursive_search(start, total_coord):\n",
    "    x,y = start\n",
    "    ## check above\n",
    "    if [x, y-1] in total_coord:\n",
    "        basin.append([x, y-1])\n",
    "        total_coord.remove([x, y-1])\n",
    "        recursive_search([x, y-1], total_coord, basin)\n",
    "        \n",
    "    #check below\n",
    "    if [x, y+1] in total_coord:\n",
    "        basin.append([x, y+1])\n",
    "        total_coord.remove([x, y+1])\n",
    "        recursive_search([x, y+1], total_coord, basin)\n",
    "        \n",
    "    #check left\n",
    "    if [x-1, y] in total_coord:\n",
    "        basin.append([x-1, y])\n",
    "        total_coord.remove([x-1, y])\n",
    "        recursive_search([x-1, y], total_coord, basin)\n",
    "        \n",
    "    #check right\n",
    "    if [x+1, y] in total_coord:\n",
    "        basin.append([x+1, y])\n",
    "        total_coord.remove([x+1, y])\n",
    "        recursive_search([x+1, y], total_coord, basin)\n",
    "    return basin, total_coord"
   ]
  },
  {
   "cell_type": "code",
   "execution_count": 174,
   "metadata": {},
   "outputs": [
    {
     "name": "stdout",
     "output_type": "stream",
     "text": [
      "3.1 s ± 34.9 ms per loop (mean ± std. dev. of 7 runs, 1 loop each)\n"
     ]
    }
   ],
   "source": [
    "total_coord = []\n",
    "for x in range(100):\n",
    "    for y in range(100):\n",
    "        total_coord.append([x,y])\n",
    "total_coord = [x for x in total_coord if int(a[x[1]][x[0]])!=9]\n",
    "basins = []\n",
    "\n",
    "while len(total_coord)>0:\n",
    "    start = total_coord[0]\n",
    "    basin = []\n",
    "    basin.append(start)\n",
    "    total_coord.remove(start)\n",
    "\n",
    "\n",
    "    basin,total_coord = recursive_search(start, total_coord, basin)\n",
    "    basins.append(basin)\n",
    "sorted([len(x) for x in basins])[-3]*sorted([len(x) for x in basins])[-2]*sorted([len(x) for x in basins])[-1]"
   ]
  }
 ],
 "metadata": {
  "kernelspec": {
   "display_name": "Python 3",
   "language": "python",
   "name": "python3"
  },
  "language_info": {
   "codemirror_mode": {
    "name": "ipython",
    "version": 3
   },
   "file_extension": ".py",
   "mimetype": "text/x-python",
   "name": "python",
   "nbconvert_exporter": "python",
   "pygments_lexer": "ipython3",
   "version": "3.7.3"
  }
 },
 "nbformat": 4,
 "nbformat_minor": 2
}
