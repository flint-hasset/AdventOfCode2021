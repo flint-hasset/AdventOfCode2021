{
 "cells": [
  {
   "cell_type": "code",
   "execution_count": 1,
   "metadata": {},
   "outputs": [],
   "source": [
    "with open(r'C:\\Users\\stefa\\OneDrive\\Documents\\Analysis Projects\\Advent of Code\\input9.txt','r') as file:\n",
    "    a = file.readlines()\n",
    "    a = [(line.rstrip()) for line in a]"
   ]
  },
  {
   "cell_type": "markdown",
   "metadata": {},
   "source": [
    "### Part 1"
   ]
  },
  {
   "cell_type": "code",
   "execution_count": 3,
   "metadata": {},
   "outputs": [
    {
     "data": {
      "text/plain": [
       "['4567894301299921298789654345689439843295436789543298765432345678986789756901239998765634567895986555',\n",
       " '3458963212989890989678943234678998764989945678932198764321456799215678949892398999854525658934895434',\n",
       " '2348954329876799876567899195789469999767896989949019965432567897434569998789987898743212345695679423',\n",
       " '1237895498765698765479998989890359878956789999898929876545678996545698987678976987654563456789798912']"
      ]
     },
     "execution_count": 3,
     "metadata": {},
     "output_type": "execute_result"
    }
   ],
   "source": [
    "a[:4]"
   ]
  },
  {
   "cell_type": "code",
   "execution_count": 9,
   "metadata": {},
   "outputs": [
    {
     "data": {
      "text/plain": [
       "425"
      ]
     },
     "execution_count": 9,
     "metadata": {},
     "output_type": "execute_result"
    }
   ],
   "source": [
    "## 100 x 100 grid. Find 'low points'\n",
    "\n",
    "lows = []\n",
    "for y in range(100):\n",
    "    for x in range(100):\n",
    "        neighbors = []\n",
    "        cell = int(a[y][x])\n",
    "        if y > 0:\n",
    "            neighbors.append(int(a[y-1][x]))\n",
    "        if y < 99:\n",
    "            neighbors.append(int(a[y+1][x]))\n",
    "        if x > 0:\n",
    "            neighbors.append(int(a[y][x-1]))\n",
    "        if x < 99:\n",
    "            neighbors.append(int(a[y][x+1]))\n",
    "        if cell < min(neighbors):\n",
    "            lows.append(cell)\n",
    "sum(lows)+len(lows)"
   ]
  },
  {
   "cell_type": "markdown",
   "metadata": {},
   "source": [
    "### Part II"
   ]
  },
  {
   "cell_type": "code",
   "execution_count": 14,
   "metadata": {},
   "outputs": [
    {
     "data": {
      "text/plain": [
       "0"
      ]
     },
     "execution_count": 14,
     "metadata": {},
     "output_type": "execute_result"
    }
   ],
   "source": [
    "### for each cell, search until find 9. Must log x,y pairs to avoid finding same basins multiple times?\n",
    "\n",
    "lows = []\n",
    "for y in range(100):\n",
    "    for x in range(100):\n",
    "        neighbors = []\n",
    "        cell = int(a[y][x])\n",
    "        if y > 0:\n",
    "            neighbors.append(int(a[y-1][x]))\n",
    "        if y < 99:\n",
    "            neighbors.append(int(a[y+1][x]))\n",
    "        if x > 0:\n",
    "            neighbors.append(int(a[y][x-1]))\n",
    "        if x < 99:\n",
    "            neighbors.append(int(a[y][x+1]))\n",
    "        if cell < min(neighbors):\n",
    "            lows.append(cell)\n",
    "sum(lows)+len(lows)"
   ]
  },
  {
   "cell_type": "code",
   "execution_count": 18,
   "metadata": {},
   "outputs": [
    {
     "ename": "SyntaxError",
     "evalue": "invalid syntax (<ipython-input-18-968335a29a22>, line 13)",
     "output_type": "error",
     "traceback": [
      "\u001b[1;36m  File \u001b[1;32m\"<ipython-input-18-968335a29a22>\"\u001b[1;36m, line \u001b[1;32m13\u001b[0m\n\u001b[1;33m    elif:\u001b[0m\n\u001b[1;37m        ^\u001b[0m\n\u001b[1;31mSyntaxError\u001b[0m\u001b[1;31m:\u001b[0m invalid syntax\n"
     ]
    }
   ],
   "source": [
    "x = 0\n",
    "y = 0\n",
    "start = a[y][x]\n",
    "if start == 9:\n",
    "    break\n",
    "else:\n",
    "    basin = 1\n",
    "for down_counter in range(100):\n",
    "    if y+down_counter>99:\n",
    "        break\n",
    "    if a[y+down_counter][x]<9:\n",
    "        basin += 1\n",
    "    elif:\n",
    "        a[y][x+right_counter]<9:\n",
    "            break\n",
    "    \n",
    "    for right_counter in range(100):\n",
    "        if x+right_counter>99:\n",
    "            break\n",
    "        if a[y+down_counter][x+right_counter]<9:\n",
    "            basin += 1\n",
    "        elif:\n",
    "            a[y+down_counter][x+right_counter]<9:\n",
    "                break\n",
    "        \n",
    "print(basin)\n",
    "            \n"
   ]
  },
  {
   "cell_type": "code",
   "execution_count": null,
   "metadata": {},
   "outputs": [],
   "source": []
  }
 ],
 "metadata": {
  "kernelspec": {
   "display_name": "Python 3",
   "language": "python",
   "name": "python3"
  },
  "language_info": {
   "codemirror_mode": {
    "name": "ipython",
    "version": 3
   },
   "file_extension": ".py",
   "mimetype": "text/x-python",
   "name": "python",
   "nbconvert_exporter": "python",
   "pygments_lexer": "ipython3",
   "version": "3.7.6"
  }
 },
 "nbformat": 4,
 "nbformat_minor": 4
}
