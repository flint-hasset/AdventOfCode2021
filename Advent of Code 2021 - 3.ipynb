{
 "cells": [
  {
   "cell_type": "code",
   "execution_count": 1,
   "metadata": {},
   "outputs": [],
   "source": [
    "with open(r'C:\\Users\\stefa\\OneDrive\\Documents\\Analysis Projects\\Advent of Code\\input3.txt','r') as file:\n",
    "    a = file.readlines()\n",
    "    a = [(line.rstrip()) for line in a]\n"
   ]
  },
  {
   "cell_type": "code",
   "execution_count": 2,
   "metadata": {},
   "outputs": [
    {
     "data": {
      "text/plain": [
       "['000011001000',\n",
       " '001111100100',\n",
       " '110101011111',\n",
       " '010100001101',\n",
       " '110001001000']"
      ]
     },
     "execution_count": 2,
     "metadata": {},
     "output_type": "execute_result"
    }
   ],
   "source": [
    "a[:5]"
   ]
  },
  {
   "cell_type": "markdown",
   "metadata": {},
   "source": [
    "### Part I"
   ]
  },
  {
   "cell_type": "code",
   "execution_count": 11,
   "metadata": {},
   "outputs": [
    {
     "data": {
      "text/plain": [
       "4191876"
      ]
     },
     "execution_count": 11,
     "metadata": {},
     "output_type": "execute_result"
    }
   ],
   "source": [
    "gamma = ''\n",
    "epsilon = ''\n",
    "\n",
    "for x in range(len(a[0])):\n",
    "    zero_count = 0\n",
    "    for number in a:\n",
    "        if int(number[x]) == 0:\n",
    "            zero_count += 1\n",
    "    if zero_count > len(a)/2:\n",
    "        gamma = gamma+'0'\n",
    "        epsilon = epsilon+'1'\n",
    "    else:\n",
    "        gamma = gamma+'1'\n",
    "        epsilon = epsilon+'0'\n",
    "int(gamma,2) * int(epsilon,2)\n"
   ]
  },
  {
   "cell_type": "markdown",
   "metadata": {},
   "source": [
    "### Part 2"
   ]
  },
  {
   "cell_type": "code",
   "execution_count": 52,
   "metadata": {},
   "outputs": [
    {
     "data": {
      "text/plain": [
       "3414905"
      ]
     },
     "execution_count": 52,
     "metadata": {},
     "output_type": "execute_result"
    }
   ],
   "source": [
    "def find_value(values, gt):\n",
    "    for digit in range(len(values[0])):\n",
    "        if len(values)==1:\n",
    "            break\n",
    "        zero_count = 0\n",
    "        for number in values:\n",
    "            if int(number[digit]) == 0:\n",
    "                zero_count += 1\n",
    "        if gt == 1:\n",
    "            if zero_count > len(values)/2:\n",
    "                values = [x for x in values if x[digit]=='0']\n",
    "            else:\n",
    "                values = [x for x in values if x[digit]=='1']\n",
    "        else:\n",
    "            if zero_count <= len(values)/2:\n",
    "                values = [x for x in values if x[digit]=='0']\n",
    "            else:\n",
    "                values = [x for x in values if x[digit]=='1']\n",
    "\n",
    "    return int(values[0],2)\n",
    "\n",
    "find_value(a, 1)*find_value(a,0)"
   ]
  }
 ],
 "metadata": {
  "kernelspec": {
   "display_name": "Python 3",
   "language": "python",
   "name": "python3"
  },
  "language_info": {
   "codemirror_mode": {
    "name": "ipython",
    "version": 3
   },
   "file_extension": ".py",
   "mimetype": "text/x-python",
   "name": "python",
   "nbconvert_exporter": "python",
   "pygments_lexer": "ipython3",
   "version": "3.7.6"
  }
 },
 "nbformat": 4,
 "nbformat_minor": 4
}
