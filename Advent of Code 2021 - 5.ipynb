{
 "cells": [
  {
   "cell_type": "code",
   "execution_count": 21,
   "metadata": {},
   "outputs": [],
   "source": [
    "import numpy as np"
   ]
  },
  {
   "cell_type": "code",
   "execution_count": 1,
   "metadata": {},
   "outputs": [],
   "source": [
    "with open(r'C:\\Users\\stefa\\OneDrive\\Documents\\Analysis Projects\\Advent of Code\\input5.txt','r') as file:\n",
    "    a = file.readlines()\n",
    "    a = [(line.rstrip()) for line in a]\n"
   ]
  },
  {
   "cell_type": "markdown",
   "metadata": {},
   "source": [
    "### Part 1"
   ]
  },
  {
   "cell_type": "code",
   "execution_count": 75,
   "metadata": {},
   "outputs": [],
   "source": [
    "vents = []\n",
    "for line in a:\n",
    "    vent = line.split(\" -> \")\n",
    "    vents.append([vent[0].split(','),vent[1].split(',')])\n",
    "vents = [x for x in vents if (x[0][0]==x[1][0] or x[0][1]==x[1][1])]"
   ]
  },
  {
   "cell_type": "code",
   "execution_count": 76,
   "metadata": {},
   "outputs": [
    {
     "data": {
      "text/plain": [
       "6113"
      ]
     },
     "execution_count": 76,
     "metadata": {},
     "output_type": "execute_result"
    }
   ],
   "source": [
    "vent_map = np.zeros([1000,1000])\n",
    "\n",
    "for vent in vents:\n",
    "    x_start = min(int(vent[0][0]),int(vent[1][0]))\n",
    "    x_end = max(int(vent[0][0]),int(vent[1][0]))\n",
    "    y_start = min(int(vent[0][1]),int(vent[1][1]))\n",
    "    y_end = max(int(vent[0][1]),int(vent[1][1]))\n",
    "    for x in range(x_start,x_end+1):\n",
    "        for y in range(y_start,y_end+1):\n",
    "            vent_map[x][y] += 1\n",
    "len(vent_map[vent_map >=2])            \n"
   ]
  },
  {
   "cell_type": "markdown",
   "metadata": {},
   "source": [
    "### Part II"
   ]
  },
  {
   "cell_type": "code",
   "execution_count": 77,
   "metadata": {},
   "outputs": [],
   "source": [
    "diag_vents = []\n",
    "for line in a:\n",
    "    vent = line.split(\" -> \")\n",
    "    vent = [vent[0].split(','),vent[1].split(',')]\n",
    "    if vent not in vents:\n",
    "        diag_vents.append(vent)"
   ]
  },
  {
   "cell_type": "code",
   "execution_count": 78,
   "metadata": {},
   "outputs": [
    {
     "data": {
      "text/plain": [
       "20373"
      ]
     },
     "execution_count": 78,
     "metadata": {},
     "output_type": "execute_result"
    }
   ],
   "source": [
    "for vent in diag_vents:\n",
    "    x = int(vent[0][0])\n",
    "    x_end = int(vent[1][0])\n",
    "    y = int(vent[0][1])\n",
    "    y_end = int(vent[1][1])\n",
    "    if x < x_end:\n",
    "        x_incr = 1\n",
    "    else:\n",
    "        x_incr = -1\n",
    "    if y < y_end:\n",
    "        y_incr = 1\n",
    "    else: y_incr = -1\n",
    "    \n",
    "    while x!= x_end + x_incr:\n",
    "        #print(x,y)\n",
    "        vent_map[x][y] += 1\n",
    "        x = x + x_incr\n",
    "        y = y + y_incr\n",
    "\n",
    "len(vent_map[vent_map >=2])            \n"
   ]
  },
  {
   "cell_type": "markdown",
   "metadata": {},
   "source": [
    "### No Numpy"
   ]
  },
  {
   "cell_type": "code",
   "execution_count": null,
   "metadata": {},
   "outputs": [],
   "source": [
    "vents = []\n",
    "for line in a:\n",
    "    vent = line.split(\" -> \")\n",
    "    vents.append([vent[0].split(','),vent[1].split(',')])\n",
    "vents = [x for x in vents if (x[0][0]==x[1][0] or x[0][1]==x[1][1])]"
   ]
  },
  {
   "cell_type": "code",
   "execution_count": 97,
   "metadata": {},
   "outputs": [
    {
     "data": {
      "text/plain": [
       "6113"
      ]
     },
     "execution_count": 97,
     "metadata": {},
     "output_type": "execute_result"
    }
   ],
   "source": [
    "vent_map = [0 for x in range(1000*1000)]\n",
    "for vent in vents:\n",
    "    x_start = min(int(vent[0][0]),int(vent[1][0]))\n",
    "    x_end = max(int(vent[0][0]),int(vent[1][0]))\n",
    "    y_start = min(int(vent[0][1]),int(vent[1][1]))\n",
    "    y_end = max(int(vent[0][1]),int(vent[1][1]))\n",
    "    for x in range(x_start,x_end+1):\n",
    "        for y in range(y_start,y_end+1):\n",
    "#            print(x, y, y*1000+x)\n",
    "            vent_map[y*1000+x] += 1\n",
    "len([x for x in vent_map if x>1])\n"
   ]
  },
  {
   "cell_type": "code",
   "execution_count": 99,
   "metadata": {},
   "outputs": [
    {
     "data": {
      "text/plain": [
       "20373"
      ]
     },
     "execution_count": 99,
     "metadata": {},
     "output_type": "execute_result"
    }
   ],
   "source": [
    "for vent in diag_vents:\n",
    "    x = int(vent[0][0])\n",
    "    x_end = int(vent[1][0])\n",
    "    y = int(vent[0][1])\n",
    "    y_end = int(vent[1][1])\n",
    "    if x < x_end:\n",
    "        x_incr = 1\n",
    "    else:\n",
    "        x_incr = -1\n",
    "    if y < y_end:\n",
    "        y_incr = 1\n",
    "    else: y_incr = -1\n",
    "    \n",
    "    while x!= x_end + x_incr:\n",
    "        #print(x,y)\n",
    "        vent_map[y*1000+x] += 1\n",
    "        x = x + x_incr\n",
    "        y = y + y_incr\n",
    "\n",
    "len([x for x in vent_map if x>1])"
   ]
  }
 ],
 "metadata": {
  "kernelspec": {
   "display_name": "Python 3",
   "language": "python",
   "name": "python3"
  },
  "language_info": {
   "codemirror_mode": {
    "name": "ipython",
    "version": 3
   },
   "file_extension": ".py",
   "mimetype": "text/x-python",
   "name": "python",
   "nbconvert_exporter": "python",
   "pygments_lexer": "ipython3",
   "version": "3.7.6"
  }
 },
 "nbformat": 4,
 "nbformat_minor": 4
}
