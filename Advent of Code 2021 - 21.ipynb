{
 "cells": [
  {
   "cell_type": "code",
   "execution_count": 1,
   "metadata": {},
   "outputs": [],
   "source": [
    "import copy"
   ]
  },
  {
   "cell_type": "code",
   "execution_count": 2,
   "metadata": {},
   "outputs": [],
   "source": [
    "with open(r'C:\\Users\\stefa\\OneDrive\\Documents\\Analysis Projects\\Advent of Code\\input21.txt','r') as file:\n",
    "    a = file.readlines()\n",
    "    a = [(line.rstrip()) for line in a]"
   ]
  },
  {
   "cell_type": "code",
   "execution_count": 3,
   "metadata": {},
   "outputs": [
    {
     "data": {
      "text/plain": [
       "['Player 1 starting position: 10', 'Player 2 starting position: 7']"
      ]
     },
     "execution_count": 3,
     "metadata": {},
     "output_type": "execute_result"
    }
   ],
   "source": [
    "a"
   ]
  },
  {
   "cell_type": "markdown",
   "metadata": {},
   "source": [
    "### Part 1\n"
   ]
  },
  {
   "cell_type": "code",
   "execution_count": 4,
   "metadata": {},
   "outputs": [
    {
     "name": "stdout",
     "output_type": "stream",
     "text": [
      "998 1006 907\n"
     ]
    },
    {
     "data": {
      "text/plain": [
       "906093"
      ]
     },
     "execution_count": 4,
     "metadata": {},
     "output_type": "execute_result"
    }
   ],
   "source": [
    "p1_pts, p1_pos = 0, 10\n",
    "p2_pts, p2_pos = 0, 7\n",
    "roll_count = 0\n",
    "active_player = 1\n",
    "for x in range(1000):\n",
    "    roll_count = (roll_count+1)%3\n",
    "    if active_player == 1:\n",
    "        p1_pos = ((p1_pos + x)%10)+1\n",
    "    if active_player == 2:\n",
    "        p2_pos = ((p2_pos + x)%10)+1\n",
    "    if roll_count == 0 and active_player == 1:\n",
    "        p1_pts += p1_pos\n",
    "        active_player = 2\n",
    "    elif roll_count == 0 and active_player == 2:\n",
    "        p2_pts += p2_pos\n",
    "        active_player = 1\n",
    "    if max(p1_pts, p2_pts) >= 1000:\n",
    "        print(x, p1_pts, p2_pts)\n",
    "        break\n",
    "    #print(x+1, roll_count, active_player, 'P1:', p1_pos, 'P2:', p2_pos, p1_pts, p2_pts)    \n",
    "(x+1)*min(p1_pts,p2_pts)"
   ]
  },
  {
   "cell_type": "markdown",
   "metadata": {},
   "source": [
    "### Part 2\n",
    "\n",
    "Should be able to see who wins for all possible dice combos across 12 rounds, and calculate probability of each combination. \n",
    "Can treat rolls as packs of 3 for game purposes (total val 3 to 9), but will split for probabilities based on 'dirac_dict'"
   ]
  },
  {
   "cell_type": "code",
   "execution_count": 101,
   "metadata": {},
   "outputs": [
    {
     "data": {
      "text/plain": [
       "{3: 1, 4: 3, 5: 6, 6: 7, 7: 6, 8: 3, 9: 1}"
      ]
     },
     "execution_count": 101,
     "metadata": {},
     "output_type": "execute_result"
    }
   ],
   "source": [
    "dirac_set = []\n",
    "for x in range(1,4):\n",
    "    for y in range(1,4):\n",
    "        for z in range(1,4):\n",
    "            dirac_set.append(x+y+z)\n",
    "#            print(x,y,z)\n",
    "dirac_set\n",
    "dirac_dict = {}\n",
    "for x in dirac_set:\n",
    "    if x in dirac_dict.keys():\n",
    "        dirac_dict[x] += 1\n",
    "    else:\n",
    "        dirac_dict[x] = 1\n",
    "dirac_dict"
   ]
  },
  {
   "cell_type": "code",
   "execution_count": 102,
   "metadata": {},
   "outputs": [],
   "source": [
    "def run_round(active_player, game_positions, p1_wins, p2_wins):\n",
    "    game_positions_round = {}\n",
    "    for p1_s in range(21):\n",
    "        for p2_s in range(21):\n",
    "            for p1_pos in range(1,11):\n",
    "                for p2_pos in range(1,11):\n",
    "                    game_positions_round[tuple([p1_s, p2_s, p1_pos, p2_pos])] = 0\n",
    "\n",
    "    for key in game_positions.keys():\n",
    "        if game_positions[key] > 0:\n",
    "            for roll in dirac_dict.keys():\n",
    "                p1_s, p2_s, p1_pos, p2_pos = key\n",
    "                current = game_positions[tuple([p1_s, p2_s, p1_pos, p2_pos])]\n",
    "                if active_player == 1:\n",
    "                    p1_pos = ((p1_pos + roll-1)%10)+1\n",
    "                if active_player == 2:\n",
    "                    p2_pos = ((p2_pos + roll-1)%10)+1\n",
    "                if active_player == 1:\n",
    "                    p1_s += p1_pos\n",
    "                elif active_player == 2:\n",
    "                    p2_s += p2_pos\n",
    "                if p1_s >= 21:\n",
    "                    p1_wins += current * dirac_dict[roll]\n",
    "                elif p2_s >= 21:\n",
    "                    p2_wins += current * dirac_dict[roll]\n",
    "                else:\n",
    "                    game_positions_round[tuple([p1_s, p2_s, p1_pos, p2_pos])] += current * dirac_dict[roll]\n",
    "\n",
    "    return game_positions_round, p1_wins, p2_wins"
   ]
  },
  {
   "cell_type": "code",
   "execution_count": 103,
   "metadata": {},
   "outputs": [
    {
     "name": "stdout",
     "output_type": "stream",
     "text": [
      "274291038026362 135620348907779\n"
     ]
    }
   ],
   "source": [
    "### initialize dictionary\n",
    "game_positions = {}\n",
    "for p1_s in range(21):\n",
    "    for p2_s in range(21):\n",
    "        for p1_pos in range(1,11):\n",
    "            for p2_pos in range(1,11):\n",
    "                game_positions[tuple([p1_s, p2_s, p1_pos, p2_pos])] = 0\n",
    "len(game_positions)\n",
    "\n",
    "### Initial starting conditions\n",
    "p1_s, p1_pos = 0, 10\n",
    "p2_s, p2_pos = 0, 7\n",
    "game_positions[tuple([p1_s, p2_s, p1_pos, p2_pos])] += 1\n",
    "\n",
    "\n",
    "p1_wins, p2_wins = 0, 0\n",
    "game_positions_round, p1_wins, p2_wins = run_round(1, game_positions, p1_wins, p2_wins)\n",
    "for x in range(10):\n",
    "    game_positions_round, p1_wins, p2_wins = run_round(2, game_positions_round, p1_wins, p2_wins)\n",
    "    game_positions_round, p1_wins, p2_wins = run_round(1, game_positions_round, p1_wins, p2_wins)\n",
    "game_positions_round, p1_wins, p2_wins = run_round(2, game_positions_round, p1_wins, p2_wins)\n",
    "\n",
    "print(p1_wins, p2_wins)"
   ]
  }
 ],
 "metadata": {
  "kernelspec": {
   "display_name": "Python 3",
   "language": "python",
   "name": "python3"
  },
  "language_info": {
   "codemirror_mode": {
    "name": "ipython",
    "version": 3
   },
   "file_extension": ".py",
   "mimetype": "text/x-python",
   "name": "python",
   "nbconvert_exporter": "python",
   "pygments_lexer": "ipython3",
   "version": "3.7.6"
  }
 },
 "nbformat": 4,
 "nbformat_minor": 4
}
