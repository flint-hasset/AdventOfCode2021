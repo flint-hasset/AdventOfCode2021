{
 "cells": [
  {
   "cell_type": "code",
   "execution_count": 2,
   "metadata": {},
   "outputs": [],
   "source": [
    "a = 'target area: x=88..125, y=-157..-103'"
   ]
  },
  {
   "cell_type": "code",
   "execution_count": 3,
   "metadata": {},
   "outputs": [],
   "source": [
    "test = 'target area: x=20..30, y=-10..-5'"
   ]
  },
  {
   "cell_type": "markdown",
   "metadata": {},
   "source": [
    "### Part 1"
   ]
  },
  {
   "cell_type": "code",
   "execution_count": 158,
   "metadata": {},
   "outputs": [
    {
     "name": "stdout",
     "output_type": "stream",
     "text": [
      "88 125 -157 -103\n"
     ]
    }
   ],
   "source": [
    "input_set = a\n",
    "x_min = int(input_set.split(\" \")[2].split(\"=\")[1].split('.')[0])\n",
    "x_max = int(input_set.split(\" \")[2].split(\"=\")[1].split('.')[2][:-1])\n",
    "y_min = int(input_set.split(\" \")[3].split(\"=\")[1].split('.')[0])\n",
    "y_max = int(input_set.split(\" \")[3].split(\"=\")[1].split('.')[2])\n",
    "print(x_min, x_max, y_min, y_max)"
   ]
  },
  {
   "cell_type": "code",
   "execution_count": 4,
   "metadata": {},
   "outputs": [],
   "source": [
    "def move_step(vel_x,vel_y, x, y):\n",
    "    x = x + vel_x\n",
    "    y = y + vel_y\n",
    "    vel_x = max(0, vel_x-1)\n",
    "    vel_y -= 1\n",
    "    return vel_x, vel_y, x, y"
   ]
  },
  {
   "cell_type": "code",
   "execution_count": 176,
   "metadata": {},
   "outputs": [
    {
     "name": "stdout",
     "output_type": "stream",
     "text": [
      "Part 1:  12246\n",
      "Part 2:  3528\n"
     ]
    }
   ],
   "source": [
    "success = []\n",
    "highest_y = 0\n",
    "for try_y in range(y_min, 1000):\n",
    "    for try_x in range(x_max+1):\n",
    "        x,y = 0,0\n",
    "        vel_x, vel_y = try_x, try_y\n",
    "        height = 0\n",
    "        while x <= x_max and y > y_min:\n",
    "            vel_x, vel_y, x, y = move_step(vel_x, vel_y, x, y)\n",
    "            if y > height:\n",
    "                height = y\n",
    "            if x < x_min and vel_x > 0:\n",
    "                x_condition = 1\n",
    "            elif x > x_max:\n",
    "                x_condition = 0\n",
    "            elif x >= x_min:        \n",
    "                x_condition = 1\n",
    "            else:\n",
    "                x_condition = 0\n",
    "            if y < y_min:\n",
    "                y_condition = 0\n",
    "            else:\n",
    "                y_condition = 1\n",
    "            if x >= x_min and x <= x_max and y >= y_min and y <= y_max:\n",
    "        #        print(\"Banana Boom\", start_x, start_y)\n",
    "                success.append([try_x, try_y])\n",
    "                if height > highest_y:\n",
    "                    highest_y = height\n",
    "                break\n",
    "            if x_condition == 0:\n",
    "        #        print(\"Fails x\", start_x, start_y)\n",
    "                break\n",
    "            if y_condition == 0:\n",
    "        #        print(\"Fails y\", start_x, start_y)\n",
    "                break\n",
    "print(\"Part 1: \",highest_y)\n",
    "print(\"Part 2: \", len(success))"
   ]
  }
 ],
 "metadata": {
  "kernelspec": {
   "display_name": "Python 3",
   "language": "python",
   "name": "python3"
  },
  "language_info": {
   "codemirror_mode": {
    "name": "ipython",
    "version": 3
   },
   "file_extension": ".py",
   "mimetype": "text/x-python",
   "name": "python",
   "nbconvert_exporter": "python",
   "pygments_lexer": "ipython3",
   "version": "3.7.6"
  }
 },
 "nbformat": 4,
 "nbformat_minor": 4
}
