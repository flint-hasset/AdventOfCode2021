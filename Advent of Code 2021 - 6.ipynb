{
 "cells": [
  {
   "cell_type": "code",
   "execution_count": 9,
   "metadata": {},
   "outputs": [],
   "source": [
    "with open(r'C:\\Users\\stefa\\OneDrive\\Documents\\Analysis Projects\\Advent of Code\\input6.txt','r') as file:\n",
    "    a = file.readlines()\n",
    "    a = [(line.rstrip()) for line in a]"
   ]
  },
  {
   "cell_type": "markdown",
   "metadata": {},
   "source": [
    "### Part 1"
   ]
  },
  {
   "cell_type": "code",
   "execution_count": 11,
   "metadata": {},
   "outputs": [
    {
     "data": {
      "text/plain": [
       "[1, 1, 5, 2, 1]"
      ]
     },
     "execution_count": 11,
     "metadata": {},
     "output_type": "execute_result"
    }
   ],
   "source": [
    "days = [int(x) for x in a[0].split(\",\")]\n",
    "days[:5]"
   ]
  },
  {
   "cell_type": "code",
   "execution_count": 153,
   "metadata": {},
   "outputs": [
    {
     "data": {
      "text/plain": [
       "372300"
      ]
     },
     "execution_count": 153,
     "metadata": {},
     "output_type": "execute_result"
    }
   ],
   "source": [
    "days = [int(x) for x in a[0].split(\",\")]\n",
    "for count in range(80):\n",
    "    birthers = len([x for x in days if x==0])\n",
    "    days = [(x-1) if x > 0 else 6 for x in days]\n",
    "    [days.append(8) for x in range(birthers)]\n",
    "len(days)"
   ]
  },
  {
   "cell_type": "markdown",
   "metadata": {},
   "source": [
    "### Part II"
   ]
  },
  {
   "cell_type": "code",
   "execution_count": 152,
   "metadata": {},
   "outputs": [
    {
     "data": {
      "text/plain": [
       "1675781200288"
      ]
     },
     "execution_count": 152,
     "metadata": {},
     "output_type": "execute_result"
    }
   ],
   "source": [
    "days_dict = {}\n",
    "init_days = [int(x) for x in a[0].split(\",\")]\n",
    "for count in range(9):\n",
    "    days_dict[count] = len([x for x in init_days if x==count])\n",
    "\n",
    "for splits in range(16): ###How many groups are we breaking this into? \n",
    "    days_dict_temp = {0:0, 1:0, 2:0, 3:0, 4:0, 5:0, 6:0, 7:0, 8:0}\n",
    "    for day_start in range(9):\n",
    "        days = [day_start]\n",
    "        for count in range(16): ### How many per group\n",
    "            birthers = len([x for x in days if x==0])\n",
    "            days = [(x-1) if x > 0 else 6 for x in days]\n",
    "            [days.append(8) for x in range(birthers)]\n",
    "        for count in range(9):\n",
    "            days_dict_temp[count] = days_dict_temp.get(count) + len([x for x in days if x==count])*days_dict.get(day_start)\n",
    "    days_dict = days_dict_temp.copy()\n",
    "sum(days_dict_temp.values())"
   ]
  },
  {
   "cell_type": "code",
   "execution_count": null,
   "metadata": {},
   "outputs": [],
   "source": []
  }
 ],
 "metadata": {
  "kernelspec": {
   "display_name": "Python 3",
   "language": "python",
   "name": "python3"
  },
  "language_info": {
   "codemirror_mode": {
    "name": "ipython",
    "version": 3
   },
   "file_extension": ".py",
   "mimetype": "text/x-python",
   "name": "python",
   "nbconvert_exporter": "python",
   "pygments_lexer": "ipython3",
   "version": "3.7.6"
  }
 },
 "nbformat": 4,
 "nbformat_minor": 4
}
