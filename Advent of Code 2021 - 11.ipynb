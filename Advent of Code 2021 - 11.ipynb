{
 "cells": [
  {
   "cell_type": "code",
   "execution_count": 206,
   "metadata": {},
   "outputs": [],
   "source": [
    "with open(r'C:\\Users\\stefa\\OneDrive\\Documents\\Analysis Projects\\Advent of Code\\input11.txt','r') as file:\n",
    "    a = file.readlines()\n",
    "    a = [(line.rstrip()) for line in a]"
   ]
  },
  {
   "cell_type": "code",
   "execution_count": 198,
   "metadata": {
    "scrolled": true
   },
   "outputs": [
    {
     "data": {
      "text/plain": [
       "[[5, 4, 8, 3, 1, 4, 3, 2, 2, 3],\n",
       " [2, 7, 4, 5, 8, 5, 4, 7, 1, 1],\n",
       " [5, 2, 6, 4, 5, 5, 6, 1, 7, 3],\n",
       " [6, 1, 4, 1, 3, 3, 6, 1, 4, 6],\n",
       " [6, 3, 5, 7, 3, 8, 5, 4, 7, 8],\n",
       " [4, 1, 6, 7, 5, 2, 4, 6, 4, 5],\n",
       " [2, 1, 7, 6, 8, 4, 1, 7, 2, 1],\n",
       " [6, 8, 8, 2, 8, 8, 1, 1, 3, 4],\n",
       " [4, 8, 4, 6, 8, 4, 8, 5, 5, 4],\n",
       " [5, 2, 8, 3, 7, 5, 1, 5, 2, 6]]"
      ]
     },
     "execution_count": 198,
     "metadata": {},
     "output_type": "execute_result"
    }
   ],
   "source": [
    "test = [5483143223,2745854711,5264556173,6141336146,6357385478,4167524645,2176841721,6882881134,4846848554,5283751526]\n",
    "test = [[int(y) for y in str(x)] for x in test]\n",
    "test"
   ]
  },
  {
   "cell_type": "markdown",
   "metadata": {},
   "source": [
    "### Part 1"
   ]
  },
  {
   "cell_type": "code",
   "execution_count": 49,
   "metadata": {},
   "outputs": [],
   "source": [
    "def increase_all(field):\n",
    "    for y in range(len(field)):\n",
    "        for x in range(len(field[0])):\n",
    "            if field[y][x] <= 9:\n",
    "                field[y][x] += 1\n",
    "    return field"
   ]
  },
  {
   "cell_type": "code",
   "execution_count": 181,
   "metadata": {},
   "outputs": [],
   "source": [
    "def flashes(field):\n",
    "    flashes = 0\n",
    "    for y in range(len(field)):\n",
    "        for x in range(len(field[0])):\n",
    "            if field[y][x] > 9:\n",
    "                field[y][x] -= 10\n",
    "                flashes += 1\n",
    "                for x_adj in [-1,0,1]:\n",
    "                    for y_adj in [-1,0,1]:\n",
    "                        if x+x_adj>9 or x+x_adj<0 or y+y_adj>9 or y+y_adj<0:\n",
    "                            pass\n",
    "                        elif y_adj == 0 and x_adj == 0:\n",
    "                            pass\n",
    "                        elif field[y+y_adj][x+x_adj]==0:\n",
    "                            pass\n",
    "                        else:\n",
    "                            field[y+y_adj][x+x_adj] = min(10, field[y+y_adj][x+x_adj]+1)\n",
    "    return field,flashes"
   ]
  },
  {
   "cell_type": "code",
   "execution_count": 219,
   "metadata": {},
   "outputs": [
    {
     "data": {
      "text/plain": [
       "1721"
      ]
     },
     "execution_count": 219,
     "metadata": {},
     "output_type": "execute_result"
    }
   ],
   "source": [
    "run_a = [[int(y) for y in str(x)] for x in a]\n",
    "\n",
    "\n",
    "total_flashes = 0\n",
    "for x in range(100):\n",
    "    increase_all(run_a)\n",
    "    for x in range(100):\n",
    "        total_flashes += flashes(run_a)[1]\n",
    "total_flashes"
   ]
  },
  {
   "cell_type": "markdown",
   "metadata": {},
   "source": [
    "### Part II"
   ]
  },
  {
   "cell_type": "code",
   "execution_count": 231,
   "metadata": {},
   "outputs": [
    {
     "name": "stdout",
     "output_type": "stream",
     "text": [
      "298\n"
     ]
    }
   ],
   "source": [
    "run_a = [[int(y) for y in str(x)] for x in a]\n",
    "\n",
    "for x in range(1,1000):\n",
    "    total_flashes = 0\n",
    "    increase_all(run_a)\n",
    "    for y in range(100):\n",
    "        total_flashes += flashes(run_a)[1]\n",
    "    if total_flashes == 100:\n",
    "        print(x)\n",
    "        break\n"
   ]
  }
 ],
 "metadata": {
  "kernelspec": {
   "display_name": "Python 3",
   "language": "python",
   "name": "python3"
  },
  "language_info": {
   "codemirror_mode": {
    "name": "ipython",
    "version": 3
   },
   "file_extension": ".py",
   "mimetype": "text/x-python",
   "name": "python",
   "nbconvert_exporter": "python",
   "pygments_lexer": "ipython3",
   "version": "3.7.6"
  }
 },
 "nbformat": 4,
 "nbformat_minor": 4
}
