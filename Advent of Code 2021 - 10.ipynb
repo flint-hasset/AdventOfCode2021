{
 "cells": [
  {
   "cell_type": "code",
   "execution_count": 82,
   "metadata": {},
   "outputs": [],
   "source": [
    "with open(r'C:\\Users\\stefa\\OneDrive\\Documents\\Analysis Projects\\Advent of Code\\input10.txt','r') as file:\n",
    "    a = file.readlines()\n",
    "    a = [(line.rstrip()) for line in a]"
   ]
  },
  {
   "cell_type": "code",
   "execution_count": 90,
   "metadata": {},
   "outputs": [],
   "source": [
    "test = ['[({(<(())[]>[[{[]{<()<>>',\n",
    "'[(()[<>])]({[<{<<[]>>(',\n",
    "'{([(<{}[<>[]}>{[]{[(<()>',\n",
    "'(((({<>}<{<{<>}{[]{[]{}',\n",
    "'[[<[([]))<([[{}[[()]]]',\n",
    "'[{[{({}]{}}([{[{{{}}([]',\n",
    "'{<[[]]>}<{[{[{[]{()[[[]',\n",
    "'[<(<(<(<{}))><([]([]()',\n",
    "'<{([([[(<>()){}]>(<<{{',\n",
    "'<{([{{}}[<[[[<>{}]]]>[]]']"
   ]
  },
  {
   "cell_type": "markdown",
   "metadata": {},
   "source": [
    "### Part 1"
   ]
  },
  {
   "cell_type": "code",
   "execution_count": 92,
   "metadata": {},
   "outputs": [
    {
     "data": {
      "text/plain": [
       "['{<{[<((<[<({<{(){}}(()())>[<<><>>((){})]}(<<{}{}>(<><>)>))(<[(<>{}){()()}]{{{}[]}(()())}>[',\n",
       " '((<{[<([<<{[<(()())([]())>)<<<{}{}>{[][]}>{<<>>(()[])}>}<(((()[])[{}<>])[<[]{}>{{}[]}])[[({}{})']"
      ]
     },
     "execution_count": 92,
     "metadata": {},
     "output_type": "execute_result"
    }
   ],
   "source": [
    "a[:2]"
   ]
  },
  {
   "cell_type": "code",
   "execution_count": 93,
   "metadata": {},
   "outputs": [],
   "source": [
    "score_dict = {')':3, ']':57, '>':25137, '}':1197}"
   ]
  },
  {
   "cell_type": "code",
   "execution_count": 94,
   "metadata": {},
   "outputs": [
    {
     "data": {
      "text/plain": [
       "390993"
      ]
     },
     "execution_count": 94,
     "metadata": {},
     "output_type": "execute_result"
    }
   ],
   "source": [
    "closes_list = ')]>}' \n",
    "match_dict = {'(':')', '[':']', '<':'>', '{':'}'}\n",
    "\n",
    "def check_line(line):\n",
    "    score = 0\n",
    "    opens = []\n",
    "    for char in line:\n",
    "        if char in '([{<':\n",
    "            opens.append(char)\n",
    "        if char in closes_list:\n",
    "            if len(opens)==0:\n",
    "                score += score_dict[char] \n",
    "                break\n",
    "            elif char != match_dict[opens[-1]]:\n",
    "                score += score_dict[char] \n",
    "                break\n",
    "            else:\n",
    "                opens.pop(-1)\n",
    "    return score        \n",
    "\n",
    "total_score = 0\n",
    "for line in a:\n",
    "    total_score += check_line(line)\n",
    "total_score"
   ]
  },
  {
   "cell_type": "markdown",
   "metadata": {},
   "source": [
    "### Part II"
   ]
  },
  {
   "cell_type": "code",
   "execution_count": 95,
   "metadata": {},
   "outputs": [],
   "source": [
    "def check_opens(line):\n",
    "    score = 0\n",
    "    opens = []\n",
    "    for char in line:\n",
    "        if char in '([{<':\n",
    "            opens.append(char)\n",
    "        if char in closes_list:\n",
    "            if len(opens)==0:\n",
    "                score += score_dict[char] \n",
    "                break\n",
    "            elif char != match_dict[opens[-1]]:\n",
    "                score += score_dict[char] \n",
    "                break\n",
    "            else:\n",
    "                opens.pop(-1)\n",
    "    return opens        \n"
   ]
  },
  {
   "cell_type": "code",
   "execution_count": 96,
   "metadata": {},
   "outputs": [
    {
     "data": {
      "text/plain": [
       "2391385187"
      ]
     },
     "execution_count": 96,
     "metadata": {},
     "output_type": "execute_result"
    }
   ],
   "source": [
    "new_lines = [x for x in a if check_line(x)==0]\n",
    "len(new_lines)\n",
    "\n",
    "closes_list = ')]>}' \n",
    "score_dict = {'(':1, '[':2, '<':4, '{':3} # *5 for each extra\n",
    "match_dict = {'(':')', '[':']', '<':'>', '{':'}'}\n",
    "\n",
    "test_line = ['[({(<(())[]>[[{[]{<()<>>', '[(()[<>])]({[<{<<[]>>(','(((({<>}<{<{<>}{[]{[]{}','{<[[]]>}<{[{[{[]{()[[[]']\n",
    "\n",
    "score_list = []\n",
    "for line in new_lines:\n",
    "    opens = check_opens(line)\n",
    "    count = 0\n",
    "    score = 0\n",
    "    \n",
    "    for x in opens[::-1]:\n",
    "        score = score*5 + score_dict[x]\n",
    "    score_list.append(score)\n",
    "#    print(opens)\n",
    "#    print(line)\n",
    "#    print(score)\n",
    "sorted(score_list)[len(score_list)//2]"
   ]
  },
  {
   "cell_type": "code",
   "execution_count": null,
   "metadata": {},
   "outputs": [],
   "source": []
  }
 ],
 "metadata": {
  "kernelspec": {
   "display_name": "Python 3",
   "language": "python",
   "name": "python3"
  },
  "language_info": {
   "codemirror_mode": {
    "name": "ipython",
    "version": 3
   },
   "file_extension": ".py",
   "mimetype": "text/x-python",
   "name": "python",
   "nbconvert_exporter": "python",
   "pygments_lexer": "ipython3",
   "version": "3.7.6"
  }
 },
 "nbformat": 4,
 "nbformat_minor": 4
}
