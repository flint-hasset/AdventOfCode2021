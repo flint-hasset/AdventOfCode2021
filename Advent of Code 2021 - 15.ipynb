{
 "cells": [
  {
   "cell_type": "code",
   "execution_count": 1,
   "metadata": {},
   "outputs": [],
   "source": [
    "with open(r'C:\\Users\\stefa\\OneDrive\\Documents\\Analysis Projects\\Advent of Code\\input15.txt','r') as file:\n",
    "    a = file.readlines()\n",
    "    a = [(line.rstrip()) for line in a]"
   ]
  },
  {
   "cell_type": "code",
   "execution_count": 2,
   "metadata": {},
   "outputs": [
    {
     "data": {
      "text/plain": [
       "['7257173117871274148119191397411866741961893915191233591781237171134183111991588567743913598398999129',\n",
       " '9199956198317542321811795167539333593959845233586245178771259721629672984999396181817424129792113429',\n",
       " '5678391114239515741618386378916979112716269165195269215584939279279177393199175187199511833999819385',\n",
       " '7149919968927397171639311441114199789621399783958844626227879671633692776519178119978312379854918472',\n",
       " '9571133571872511883799281362819193417112413972551887416264299171789218539132957196979811132721291672']"
      ]
     },
     "execution_count": 2,
     "metadata": {},
     "output_type": "execute_result"
    }
   ],
   "source": [
    "a[:5]"
   ]
  },
  {
   "cell_type": "code",
   "execution_count": 4,
   "metadata": {},
   "outputs": [
    {
     "data": {
      "text/plain": [
       "['1163751742',\n",
       " '1381373672',\n",
       " '2136511328',\n",
       " '3694931569',\n",
       " '7463417111',\n",
       " '1319128137',\n",
       " '1359912421',\n",
       " '3125421639',\n",
       " '1293138521',\n",
       " '2311944581']"
      ]
     },
     "execution_count": 4,
     "metadata": {},
     "output_type": "execute_result"
    }
   ],
   "source": [
    "test = [1163751742,\n",
    "1381373672,\n",
    "2136511328,\n",
    "3694931569,\n",
    "7463417111,\n",
    "1319128137,\n",
    "1359912421,\n",
    "3125421639,\n",
    "1293138521,\n",
    "2311944581]\n",
    "    \n",
    "test = [str(x) for x in test]\n",
    "test"
   ]
  },
  {
   "cell_type": "markdown",
   "metadata": {},
   "source": [
    "### Part 1"
   ]
  },
  {
   "cell_type": "code",
   "execution_count": 299,
   "metadata": {},
   "outputs": [],
   "source": [
    "def check_neighbors(x, y, test_list):\n",
    "    ##above\n",
    "    if [x, y+1] in available:\n",
    "        path_costs[y+1][x] = min(path_costs[y+1][x], path_costs[y][x] + int(input_set[y+1][x]))\n",
    "        test_list.append([x,y+1])\n",
    "    ##below\n",
    "    if [x, y-1] in available:\n",
    "        path_costs[y-1][x] = min(path_costs[y-1][x], path_costs[y][x] + int(input_set[y-1][x]))\n",
    "        test_list.append([x,y-1])\n",
    "    ##left\n",
    "    if [x+1, y] in available:\n",
    "        path_costs[y][x+1] = min(path_costs[y][x+1], path_costs[y][x] + int(input_set[y][x+1]))\n",
    "        test_list.append([x+1,y])\n",
    "    ##right\n",
    "    if [x-1, y] in available:\n",
    "        path_costs[y][x-1] = min(path_costs[y][x-1], path_costs[y][x] + int(input_set[y][x-1]))\n",
    "        test_list.append([x-1,y])\n"
   ]
  },
  {
   "cell_type": "code",
   "execution_count": 300,
   "metadata": {},
   "outputs": [],
   "source": [
    "### No need to search every spot. Keep additional list of cells < max, but not on checked_list? \n",
    "\n",
    "def find_min(path_costs, checked, test_list):\n",
    "    test_list = [x for x in test_list if x not in checked]\n",
    "    \n",
    "    min_val = 1000000000\n",
    "    for pairs in test_list:\n",
    "        x,y = pairs\n",
    "        if int(path_costs[y][x])<min_val:\n",
    "            min_val = int(path_costs[y][x])\n",
    "            best_x = x\n",
    "            best_y = y\n",
    "    return best_x,best_y"
   ]
  },
  {
   "cell_type": "code",
   "execution_count": 304,
   "metadata": {},
   "outputs": [
    {
     "name": "stdout",
     "output_type": "stream",
     "text": [
      "267 µs ± 2.56 µs per loop (mean ± std. dev. of 7 runs, 1000 loops each)\n"
     ]
    }
   ],
   "source": [
    "%%timeit\n",
    "check_neighbors(x, y, test_list)"
   ]
  },
  {
   "cell_type": "code",
   "execution_count": 303,
   "metadata": {},
   "outputs": [
    {
     "name": "stdout",
     "output_type": "stream",
     "text": [
      "591 µs ± 19.2 µs per loop (mean ± std. dev. of 7 runs, 1000 loops each)\n"
     ]
    }
   ],
   "source": [
    "%%timeit\n",
    "min_val = 1000000000\n",
    "for pairs in test_list:\n",
    "    x,y = pairs\n",
    "    if int(path_costs[y][x])<min_val:\n",
    "        min_val = int(path_costs[y][x])\n",
    "        best_x = x\n",
    "        best_y = y\n"
   ]
  },
  {
   "cell_type": "code",
   "execution_count": 306,
   "metadata": {},
   "outputs": [],
   "source": [
    "import timeit"
   ]
  },
  {
   "cell_type": "code",
   "execution_count": 307,
   "metadata": {},
   "outputs": [
    {
     "name": "stdout",
     "output_type": "stream",
     "text": [
      "100 0.0331787000031909\n",
      "200 0.12705580000329064\n",
      "300 0.29325080000126036\n",
      "400 0.5508795999994618\n",
      "500 0.9299554999961401\n",
      "600 1.487546199998178\n",
      "700 1.849352999997791\n",
      "800 2.5266723000022466\n",
      "900 3.2720146999999997\n",
      "1000 3.9221240999977454\n",
      "1100 5.001723400004266\n",
      "1200 5.987033999997948\n",
      "1300 7.132586899999296\n",
      "1400 7.8950162999972235\n",
      "1500 9.112221000003046\n",
      "1600 10.765474700005143\n",
      "1700 11.84346319999895\n",
      "1800 13.293675300003088\n",
      "1900 15.370349800003169\n",
      "2000 16.951532699997188\n",
      "2100 18.95012160000624\n",
      "2200 20.71198889999505\n",
      "2300 22.371628300003067\n",
      "2400 23.90231230000063\n",
      "2500 26.025185300000885\n",
      "2600 28.234899300005054\n",
      "2700 31.648749599997245\n",
      "2800 35.856579799998144\n",
      "2900 35.679113099999086\n",
      "3000 39.00494310000067\n",
      "3100 41.15831749999779\n",
      "3200 44.743521299998974\n",
      "3300 47.005740100001276\n",
      "3400 51.18085099999735\n",
      "3500 55.83729389999644\n",
      "3600 55.47206780000124\n",
      "3700 58.23289569999906\n",
      "3800 63.76959550000174\n",
      "3900 65.88495180000609\n",
      "4000 68.78637539999909\n",
      "4100 74.23263730000326\n",
      "4200 77.14157469999918\n",
      "4300 81.89095699999598\n",
      "4400 84.8813136999961\n",
      "4500 89.8037120999943\n",
      "4600 95.04448830000183\n",
      "4700 97.09135299999616\n",
      "4800 101.76195469999948\n",
      "4900 104.0914300000004\n",
      "5000 110.96159289999923\n",
      "5100 113.41459010000108\n",
      "5200 117.4584732000003\n",
      "5300 124.60286600000109\n",
      "5400 129.6301902999985\n",
      "5500 133.8758796999973\n",
      "5600 138.56592240000464\n",
      "5700 140.4331880000027\n",
      "5800 147.08619400000316\n",
      "5900 149.91016169999784\n",
      "6000 158.22858219999762\n",
      "6100 164.21823420000146\n",
      "6200 168.94251300000178\n",
      "6300 174.67082530000334\n",
      "6400 180.68390080000245\n",
      "6500 185.68859220000013\n",
      "6600 193.71639239999786\n",
      "6700 197.82326710000052\n",
      "6800 202.41534460000548\n",
      "6900 209.3965429000018\n",
      "7000 216.83142149999912\n",
      "7100 222.5885511000015\n",
      "7200 231.07437170000048\n",
      "7300 235.89629769999738\n",
      "7400 240.32159949999914\n",
      "7500 248.48015480000322\n",
      "7600 255.90937719999783\n",
      "7700 263.3510882999981\n",
      "7800 264.97066800000175\n",
      "7900 275.94235109999863\n",
      "8000 282.9333362000034\n",
      "8100 289.55264239999815\n",
      "8200 298.7287243999963\n",
      "8300 301.5795853000018\n",
      "8400 307.5322421000019\n",
      "8500 315.6440703999979\n",
      "8600 328.8785355\n",
      "8700 334.45974180000485\n",
      "8800 341.1192095000006\n",
      "8900 348.01446020000003\n",
      "9000 358.88495500000136\n",
      "9100 366.8766250999979\n",
      "9200 377.901735200001\n",
      "9300 382.8029357999985\n",
      "9400 392.4781412999946\n",
      "9500 401.316230299999\n",
      "9600 404.8489100000006\n",
      "9700 417.8817287999991\n",
      "9800 428.8653903999948\n",
      "9900 429.12327730000106\n"
     ]
    },
    {
     "ename": "UnboundLocalError",
     "evalue": "local variable 'best_x' referenced before assignment",
     "output_type": "error",
     "traceback": [
      "\u001b[1;31m---------------------------------------------------------------------------\u001b[0m",
      "\u001b[1;31mUnboundLocalError\u001b[0m                         Traceback (most recent call last)",
      "\u001b[1;32m<ipython-input-307-9d7569f10081>\u001b[0m in \u001b[0;36m<module>\u001b[1;34m\u001b[0m\n\u001b[0;32m     19\u001b[0m     \u001b[0mcheck_neighbors\u001b[0m\u001b[1;33m(\u001b[0m\u001b[0mx\u001b[0m\u001b[1;33m,\u001b[0m\u001b[0my\u001b[0m\u001b[1;33m,\u001b[0m \u001b[0mtest_list\u001b[0m\u001b[1;33m)\u001b[0m\u001b[1;33m\u001b[0m\u001b[1;33m\u001b[0m\u001b[0m\n\u001b[0;32m     20\u001b[0m     \u001b[0mchecked\u001b[0m\u001b[1;33m.\u001b[0m\u001b[0mappend\u001b[0m\u001b[1;33m(\u001b[0m\u001b[1;33m[\u001b[0m\u001b[0mx\u001b[0m\u001b[1;33m,\u001b[0m\u001b[0my\u001b[0m\u001b[1;33m]\u001b[0m\u001b[1;33m)\u001b[0m\u001b[1;33m\u001b[0m\u001b[1;33m\u001b[0m\u001b[0m\n\u001b[1;32m---> 21\u001b[1;33m     \u001b[0mx\u001b[0m\u001b[1;33m,\u001b[0m\u001b[0my\u001b[0m \u001b[1;33m=\u001b[0m \u001b[0mfind_min\u001b[0m\u001b[1;33m(\u001b[0m\u001b[0mpath_costs\u001b[0m\u001b[1;33m,\u001b[0m \u001b[0mchecked\u001b[0m\u001b[1;33m,\u001b[0m \u001b[0mtest_list\u001b[0m\u001b[1;33m)\u001b[0m\u001b[1;33m\u001b[0m\u001b[1;33m\u001b[0m\u001b[0m\n\u001b[0m\u001b[0;32m     22\u001b[0m     \u001b[1;32mif\u001b[0m \u001b[0mlen\u001b[0m\u001b[1;33m(\u001b[0m\u001b[0mchecked\u001b[0m\u001b[1;33m)\u001b[0m\u001b[1;33m%\u001b[0m\u001b[1;36m100\u001b[0m \u001b[1;33m==\u001b[0m \u001b[1;36m0\u001b[0m\u001b[1;33m:\u001b[0m\u001b[1;33m\u001b[0m\u001b[1;33m\u001b[0m\u001b[0m\n\u001b[0;32m     23\u001b[0m         \u001b[0mprint\u001b[0m\u001b[1;33m(\u001b[0m\u001b[0mlen\u001b[0m\u001b[1;33m(\u001b[0m\u001b[0mchecked\u001b[0m\u001b[1;33m)\u001b[0m\u001b[1;33m,\u001b[0m \u001b[0mtimeit\u001b[0m\u001b[1;33m.\u001b[0m\u001b[0mdefault_timer\u001b[0m\u001b[1;33m(\u001b[0m\u001b[1;33m)\u001b[0m\u001b[1;33m-\u001b[0m\u001b[0mstart\u001b[0m\u001b[1;33m)\u001b[0m\u001b[1;33m\u001b[0m\u001b[1;33m\u001b[0m\u001b[0m\n",
      "\u001b[1;32m<ipython-input-300-c5c8319fb65f>\u001b[0m in \u001b[0;36mfind_min\u001b[1;34m(path_costs, checked, test_list)\u001b[0m\n\u001b[0;32m     11\u001b[0m             \u001b[0mbest_x\u001b[0m \u001b[1;33m=\u001b[0m \u001b[0mx\u001b[0m\u001b[1;33m\u001b[0m\u001b[1;33m\u001b[0m\u001b[0m\n\u001b[0;32m     12\u001b[0m             \u001b[0mbest_y\u001b[0m \u001b[1;33m=\u001b[0m \u001b[0my\u001b[0m\u001b[1;33m\u001b[0m\u001b[1;33m\u001b[0m\u001b[0m\n\u001b[1;32m---> 13\u001b[1;33m     \u001b[1;32mreturn\u001b[0m \u001b[0mbest_x\u001b[0m\u001b[1;33m,\u001b[0m\u001b[0mbest_y\u001b[0m\u001b[1;33m\u001b[0m\u001b[1;33m\u001b[0m\u001b[0m\n\u001b[0m",
      "\u001b[1;31mUnboundLocalError\u001b[0m: local variable 'best_x' referenced before assignment"
     ]
    }
   ],
   "source": [
    "input_set = a\n",
    "\n",
    "path_costs = [[100000000 for x in range(len(input_set[0]))] for y in range(len(input_set))]\n",
    "path_costs[0][0] = 0\n",
    "\n",
    "available = []\n",
    "#visited = []\n",
    "for y in range(len(input_set)):\n",
    "    for x in range(len(input_set[0])):\n",
    "        available.append([x,y])\n",
    "\n",
    "x = 0\n",
    "y = 0\n",
    "\n",
    "checked = []\n",
    "test_list = []\n",
    "start = timeit.default_timer()\n",
    "while len(checked)!= len(path_costs[0])*len(path_costs):\n",
    "    check_neighbors(x,y, test_list)\n",
    "    checked.append([x,y])\n",
    "    x,y = find_min(path_costs, checked, test_list)\n",
    "    if len(checked)%100 == 0:\n",
    "        print(len(checked), timeit.default_timer()-start)\n",
    "        start = timeit.default_timer()\n",
    "path_costs[-1][-1]"
   ]
  },
  {
   "cell_type": "code",
   "execution_count": 308,
   "metadata": {},
   "outputs": [
    {
     "data": {
      "text/plain": [
       "508"
      ]
     },
     "execution_count": 308,
     "metadata": {},
     "output_type": "execute_result"
    }
   ],
   "source": [
    "path_costs[-1][-1]"
   ]
  },
  {
   "cell_type": "code",
   "execution_count": null,
   "metadata": {},
   "outputs": [],
   "source": [
    "path_costs"
   ]
  },
  {
   "cell_type": "code",
   "execution_count": 285,
   "metadata": {},
   "outputs": [
    {
     "name": "stdout",
     "output_type": "stream",
     "text": [
      " "
     ]
    }
   ],
   "source": [
    "%%prun\n",
    "x,y = find_min(path_costs, checked)\n",
    "check_neighbors(x,y)\n",
    "checked.append([x,y])"
   ]
  },
  {
   "cell_type": "markdown",
   "metadata": {},
   "source": [
    "### Part II"
   ]
  },
  {
   "cell_type": "code",
   "execution_count": null,
   "metadata": {},
   "outputs": [],
   "source": []
  },
  {
   "cell_type": "code",
   "execution_count": null,
   "metadata": {},
   "outputs": [],
   "source": []
  }
 ],
 "metadata": {
  "kernelspec": {
   "display_name": "Python 3",
   "language": "python",
   "name": "python3"
  },
  "language_info": {
   "codemirror_mode": {
    "name": "ipython",
    "version": 3
   },
   "file_extension": ".py",
   "mimetype": "text/x-python",
   "name": "python",
   "nbconvert_exporter": "python",
   "pygments_lexer": "ipython3",
   "version": "3.7.6"
  }
 },
 "nbformat": 4,
 "nbformat_minor": 4
}
